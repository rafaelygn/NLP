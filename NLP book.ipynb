{
 "cells": [
  {
   "cell_type": "markdown",
   "metadata": {},
   "source": [
    "<img src=\"files/title2.png\", width =400>"
   ]
  },
  {
   "cell_type": "markdown",
   "metadata": {},
   "source": [
    "## Chapter 1 - Language Processing and Python"
   ]
  },
  {
   "cell_type": "code",
   "execution_count": 1,
   "metadata": {},
   "outputs": [],
   "source": [
    "# Import Lib's\n",
    "import numpy as np\n",
    "import matplotlib.pyplot as plt\n",
    "import pandas as pd\n",
    "import nltk"
   ]
  },
  {
   "cell_type": "code",
   "execution_count": 69,
   "metadata": {},
   "outputs": [
    {
     "name": "stdout",
     "output_type": "stream",
     "text": [
      "showing info https://raw.githubusercontent.com/nltk/nltk_data/gh-pages/index.xml\n"
     ]
    },
    {
     "data": {
      "text/plain": [
       "True"
      ]
     },
     "execution_count": 69,
     "metadata": {},
     "output_type": "execute_result"
    }
   ],
   "source": [
    "nltk.download()"
   ]
  },
  {
   "cell_type": "code",
   "execution_count": 35,
   "metadata": {},
   "outputs": [
    {
     "name": "stdout",
     "output_type": "stream",
     "text": [
      "*** Introductory Examples for the NLTK Book ***\n",
      "Loading text1, ..., text9 and sent1, ..., sent9\n",
      "Type the name of the text or sentence to view it.\n",
      "Type: 'texts()' or 'sents()' to list the materials.\n",
      "text1: Moby Dick by Herman Melville 1851\n",
      "text2: Sense and Sensibility by Jane Austen 1811\n",
      "text3: The Book of Genesis\n",
      "text4: Inaugural Address Corpus\n",
      "text5: Chat Corpus\n",
      "text6: Monty Python and the Holy Grail\n",
      "text7: Wall Street Journal\n",
      "text8: Personals Corpus\n",
      "text9: The Man Who Was Thursday by G . K . Chesterton 1908\n"
     ]
    }
   ],
   "source": [
    "from nltk.book import *"
   ]
  },
  {
   "cell_type": "code",
   "execution_count": 4,
   "metadata": {},
   "outputs": [
    {
     "name": "stdout",
     "output_type": "stream",
     "text": [
      "Displaying 11 of 11 matches:\n",
      "ong the former , one was of a most monstrous size . ... This came towards us , \n",
      "ON OF THE PSALMS . \" Touching that monstrous bulk of the whale or ork we have r\n",
      "ll over with a heathenish array of monstrous clubs and spears . Some were thick\n",
      "d as you gazed , and wondered what monstrous cannibal and savage could ever hav\n",
      "that has survived the flood ; most monstrous and most mountainous ! That Himmal\n",
      "they might scout at Moby Dick as a monstrous fable , or still worse and more de\n",
      "th of Radney .'\" CHAPTER 55 Of the Monstrous Pictures of Whales . I shall ere l\n",
      "ing Scenes . In connexion with the monstrous pictures of whales , I am strongly\n",
      "ere to enter upon those still more monstrous stories of them which are to be fo\n",
      "ght have been rummaged out of this monstrous cabinet there is no telling . But \n",
      "of Whale - Bones ; for Whales of a monstrous size are oftentimes cast up dead u\n"
     ]
    }
   ],
   "source": [
    "text1.concordance(\"monstrous\")"
   ]
  },
  {
   "cell_type": "code",
   "execution_count": 6,
   "metadata": {},
   "outputs": [
    {
     "name": "stdout",
     "output_type": "stream",
     "text": [
      "Displaying 11 of 11 matches:\n",
      ". \" Now , Palmer , you shall see a monstrous pretty girl .\" He immediately went\n",
      "your sister is to marry him . I am monstrous glad of it , for then I shall have\n",
      "ou may tell your sister . She is a monstrous lucky girl to get him , upon my ho\n",
      "k how you will like them . Lucy is monstrous pretty , and so good humoured and \n",
      " Jennings , \" I am sure I shall be monstrous glad of Miss Marianne ' s company \n",
      " usual noisy cheerfulness , \" I am monstrous glad to see you -- sorry I could n\n",
      "t however , as it turns out , I am monstrous glad there was never any thing in \n",
      "so scornfully ! for they say he is monstrous fond of her , as well he may . I s\n",
      "possible that she should .\" \" I am monstrous glad of it . Good gracious ! I hav\n",
      "thing of the kind . So then he was monstrous happy , and talked on some time ab\n",
      "e very genteel people . He makes a monstrous deal of money , and they keep thei\n"
     ]
    }
   ],
   "source": [
    "text2.concordance(\"monstrous\")"
   ]
  },
  {
   "cell_type": "code",
   "execution_count": 5,
   "metadata": {},
   "outputs": [
    {
     "name": "stdout",
     "output_type": "stream",
     "text": [
      "true contemptible christian abundant few part mean careful puzzled\n",
      "mystifying passing curious loving wise doleful gamesome singular\n",
      "delightfully perilous fearless\n"
     ]
    }
   ],
   "source": [
    "text1.similar(\"monstrous\")"
   ]
  },
  {
   "cell_type": "code",
   "execution_count": 8,
   "metadata": {},
   "outputs": [
    {
     "name": "stdout",
     "output_type": "stream",
     "text": [
      "very so exceedingly heartily a as good great extremely remarkably\n",
      "sweet vast amazingly\n"
     ]
    }
   ],
   "source": [
    "text2.similar(\"monstrous\")"
   ]
  },
  {
   "cell_type": "code",
   "execution_count": 9,
   "metadata": {},
   "outputs": [
    {
     "name": "stdout",
     "output_type": "stream",
     "text": [
      "a_pretty am_glad a_lucky is_pretty be_glad\n"
     ]
    }
   ],
   "source": [
    "text2.common_contexts([\"monstrous\",\"very\"])"
   ]
  },
  {
   "cell_type": "code",
   "execution_count": 10,
   "metadata": {},
   "outputs": [
    {
     "data": {
      "image/png": "[encoded data removed]",
      "text/plain": [
       "<matplotlib.figure.Figure at 0x27405ab8eb8>"
      ]
     },
     "metadata": {
      "needs_background": "light"
     },
     "output_type": "display_data"
    }
   ],
   "source": [
    "text4.dispersion_plot([\"citizens\", \"democracy\", \"freedom\", \"duties\", \"America\"]) "
   ]
  },
  {
   "cell_type": "code",
   "execution_count": 12,
   "metadata": {},
   "outputs": [],
   "source": [
    "text2.generate(100)"
   ]
  },
  {
   "cell_type": "code",
   "execution_count": 13,
   "metadata": {},
   "outputs": [
    {
     "data": {
      "text/plain": [
       "44764"
      ]
     },
     "execution_count": 13,
     "metadata": {},
     "output_type": "execute_result"
    }
   ],
   "source": [
    "len(text3)"
   ]
  },
  {
   "cell_type": "markdown",
   "metadata": {},
   "source": [
    "So Genesis has 44,764 words and punctuation symbols or tokens.\n",
    "    A token is the technical name for a sequence of characters - such as hairy, his, or :)"
   ]
  },
  {
   "cell_type": "code",
   "execution_count": 15,
   "metadata": {},
   "outputs": [
    {
     "data": {
      "text/plain": [
       "2789"
      ]
     },
     "execution_count": 15,
     "metadata": {},
     "output_type": "execute_result"
    }
   ],
   "source": [
    "len(set(text3))"
   ]
  },
  {
   "cell_type": "code",
   "execution_count": 16,
   "metadata": {},
   "outputs": [
    {
     "data": {
      "text/plain": [
       "16.050197203298673"
      ]
     },
     "execution_count": 16,
     "metadata": {},
     "output_type": "execute_result"
    }
   ],
   "source": [
    "len(text3)/len(set(text3))"
   ]
  },
  {
   "cell_type": "code",
   "execution_count": 18,
   "metadata": {},
   "outputs": [
    {
     "data": {
      "text/plain": [
       "2411"
      ]
     },
     "execution_count": 18,
     "metadata": {},
     "output_type": "execute_result"
    }
   ],
   "source": [
    "text3.count(\"the\")"
   ]
  },
  {
   "cell_type": "code",
   "execution_count": 19,
   "metadata": {},
   "outputs": [
    {
     "data": {
      "text/plain": [
       "5.386024483960325"
      ]
     },
     "execution_count": 19,
     "metadata": {},
     "output_type": "execute_result"
    }
   ],
   "source": [
    "100*text3.count(\"the\")/len(text3)"
   ]
  },
  {
   "cell_type": "code",
   "execution_count": 20,
   "metadata": {},
   "outputs": [],
   "source": [
    "def lexical_diversity(text):\n",
    "    return len(text)/len(set(text))\n",
    "\n",
    "def percentage(count, total):\n",
    "    return 100 * count/total"
   ]
  },
  {
   "cell_type": "code",
   "execution_count": 22,
   "metadata": {},
   "outputs": [
    {
     "data": {
      "text/plain": [
       "16.050197203298673"
      ]
     },
     "execution_count": 22,
     "metadata": {},
     "output_type": "execute_result"
    }
   ],
   "source": [
    "lexical_diversity(text3)"
   ]
  },
  {
   "cell_type": "markdown",
   "metadata": {},
   "source": [
    "#### Simple Statistics"
   ]
  },
  {
   "cell_type": "code",
   "execution_count": 23,
   "metadata": {},
   "outputs": [],
   "source": [
    "saying = ['After', 'all' , 'is', 'said', 'and','done', 'more', 'is', 'said', 'than', 'done']"
   ]
  },
  {
   "cell_type": "code",
   "execution_count": 24,
   "metadata": {},
   "outputs": [],
   "source": [
    "tokens = set(saying)"
   ]
  },
  {
   "cell_type": "code",
   "execution_count": 25,
   "metadata": {},
   "outputs": [],
   "source": [
    "tokens = sorted(tokens)"
   ]
  },
  {
   "cell_type": "code",
   "execution_count": 27,
   "metadata": {},
   "outputs": [
    {
     "data": {
      "text/plain": [
       "['said', 'than']"
      ]
     },
     "execution_count": 27,
     "metadata": {},
     "output_type": "execute_result"
    }
   ],
   "source": [
    "tokens[-2:]"
   ]
  },
  {
   "cell_type": "markdown",
   "metadata": {},
   "source": [
    "#### Frenquency Distributions"
   ]
  },
  {
   "cell_type": "code",
   "execution_count": 28,
   "metadata": {},
   "outputs": [],
   "source": [
    "fd1t1 = FreqDist(text1)"
   ]
  },
  {
   "cell_type": "code",
   "execution_count": 48,
   "metadata": {},
   "outputs": [
    {
     "data": {
      "text/plain": [
       "FreqDist({',': 18713, 'the': 13721, '.': 6862, 'of': 6536, 'and': 6024, 'a': 4569, 'to': 4542, ';': 4072, 'in': 3916, 'that': 2982, ...})"
      ]
     },
     "execution_count": 48,
     "metadata": {},
     "output_type": "execute_result"
    }
   ],
   "source": [
    "fd1t1"
   ]
  },
  {
   "cell_type": "code",
   "execution_count": 54,
   "metadata": {},
   "outputs": [
    {
     "data": {
      "text/plain": [
       "<function FreqDist.keys>"
      ]
     },
     "execution_count": 54,
     "metadata": {},
     "output_type": "execute_result"
    }
   ],
   "source": [
    "fd1t1.keys"
   ]
  },
  {
   "cell_type": "code",
   "execution_count": 50,
   "metadata": {},
   "outputs": [
    {
     "data": {
      "image/png": "[encoded data removed]",
      "text/plain": [
       "<matplotlib.figure.Figure at 0x27405afe470>"
      ]
     },
     "metadata": {
      "needs_background": "light"
     },
     "output_type": "display_data"
    }
   ],
   "source": [
    "fd1t1.plot(50,cumulative=True)"
   ]
  },
  {
   "cell_type": "markdown",
   "metadata": {},
   "source": [
    "Words that have been occured once only"
   ]
  },
  {
   "cell_type": "code",
   "execution_count": 55,
   "metadata": {},
   "outputs": [
    {
     "data": {
      "text/plain": [
       "9002"
      ]
     },
     "execution_count": 55,
     "metadata": {},
     "output_type": "execute_result"
    }
   ],
   "source": [
    "len(fd1t1.hapaxes())"
   ]
  },
  {
   "cell_type": "code",
   "execution_count": 56,
   "metadata": {},
   "outputs": [],
   "source": [
    "V = set(text1)"
   ]
  },
  {
   "cell_type": "markdown",
   "metadata": {},
   "source": [
    "For each word w in the vocabulary V, we check whether len(w) is greater than 15"
   ]
  },
  {
   "cell_type": "code",
   "execution_count": 60,
   "metadata": {},
   "outputs": [
    {
     "data": {
      "text/plain": [
       "['circumnavigations',\n",
       " 'characteristically',\n",
       " 'preternaturalness',\n",
       " 'superstitiousness',\n",
       " 'uncompromisedness',\n",
       " 'Physiognomically',\n",
       " 'subterraneousness',\n",
       " 'CIRCUMNAVIGATION',\n",
       " 'comprehensiveness',\n",
       " 'hermaphroditical',\n",
       " 'indispensableness',\n",
       " 'simultaneousness',\n",
       " 'circumnavigating',\n",
       " 'indiscriminately',\n",
       " 'responsibilities',\n",
       " 'uninterpenetratingly',\n",
       " 'uncomfortableness',\n",
       " 'physiognomically',\n",
       " 'cannibalistically',\n",
       " 'apprehensiveness',\n",
       " 'supernaturalness',\n",
       " 'irresistibleness',\n",
       " 'circumnavigation',\n",
       " 'undiscriminating']"
      ]
     },
     "execution_count": 60,
     "metadata": {},
     "output_type": "execute_result"
    }
   ],
   "source": [
    "long_words = [w for w in V if len(w)>15]\n",
    "long_words"
   ]
  },
  {
   "cell_type": "code",
   "execution_count": 36,
   "metadata": {},
   "outputs": [],
   "source": [
    "fdist5 = FreqDist(text5)"
   ]
  },
  {
   "cell_type": "code",
   "execution_count": 65,
   "metadata": {},
   "outputs": [
    {
     "data": {
      "text/plain": [
       "['#14-19teens',\n",
       " '#talkcity_adults',\n",
       " '((((((((((',\n",
       " '........',\n",
       " 'Question',\n",
       " 'actually',\n",
       " 'anything',\n",
       " 'computer',\n",
       " 'cute.-ass',\n",
       " 'everyone',\n",
       " 'football',\n",
       " 'innocent',\n",
       " 'listening',\n",
       " 'remember',\n",
       " 'seriously',\n",
       " 'something',\n",
       " 'together',\n",
       " 'tomorrow',\n",
       " 'watching']"
      ]
     },
     "execution_count": 65,
     "metadata": {},
     "output_type": "execute_result"
    }
   ],
   "source": [
    "sorted([w for w in set(text5) if len(w)>7 and fdist5[w]> 7])"
   ]
  },
  {
   "cell_type": "markdown",
   "metadata": {},
   "source": [
    "A Colocations is a sequence of words that occur together unusually often."
   ]
  },
  {
   "cell_type": "code",
   "execution_count": 66,
   "metadata": {},
   "outputs": [
    {
     "data": {
      "text/plain": [
       "<generator object bigrams at 0x0000027405AF4258>"
      ]
     },
     "execution_count": 66,
     "metadata": {},
     "output_type": "execute_result"
    }
   ],
   "source": [
    "bigrams(['more', 'is', 'said', 'than', 'others'])"
   ]
  },
  {
   "cell_type": "code",
   "execution_count": 67,
   "metadata": {},
   "outputs": [
    {
     "name": "stdout",
     "output_type": "stream",
     "text": [
      "United States; fellow citizens; four years; years ago; Federal\n",
      "Government; General Government; American people; Vice President; Old\n",
      "World; Almighty God; Fellow citizens; Chief Magistrate; Chief Justice;\n",
      "God bless; every citizen; Indian tribes; public debt; one another;\n",
      "foreign nations; political parties\n"
     ]
    }
   ],
   "source": [
    "text4.collocations()"
   ]
  },
  {
   "cell_type": "code",
   "execution_count": 68,
   "metadata": {},
   "outputs": [
    {
     "data": {
      "text/plain": [
       "[1,\n",
       " 4,\n",
       " 4,\n",
       " 2,\n",
       " 6,\n",
       " 8,\n",
       " 4,\n",
       " 1,\n",
       " 9,\n",
       " 1,\n",
       " 1,\n",
       " 8,\n",
       " 2,\n",
       " 1,\n",
       " 4,\n",
       " 11,\n",
       " 5,\n",
       " 2,\n",
       " 1,\n",
       " 7,\n",
       " 6,\n",
       " 1,\n",
       " 3,\n",
       " 4,\n",
       " 5,\n",
       " 2,\n",
       " 10,\n",
       " 2,\n",
       " 4,\n",
       " 1,\n",
       " 5,\n",
       " 1,\n",
       " 4,\n",
       " 1,\n",
       " 3,\n",
       " 5,\n",
       " 1,\n",
       " 1,\n",
       " 3,\n",
       " 3,\n",
       " 3,\n",
       " 1,\n",
       " 2,\n",
       " 3,\n",
       " 4,\n",
       " 7,\n",
       " 3,\n",
       " 3,\n",
       " 8,\n",
       " 3,\n",
       " 8,\n",
       " 1,\n",
       " 4,\n",
       " 1,\n",
       " 5,\n",
       " 12,\n",
       " 1,\n",
       " 9,\n",
       " 11,\n",
       " 4,\n",
       " 3,\n",
       " 3,\n",
       " 3,\n",
       " 5,\n",
       " 2,\n",
       " 3,\n",
       " 3,\n",
       " 5,\n",
       " 7,\n",
       " 2,\n",
       " 3,\n",
       " 5,\n",
       " 1,\n",
       " 2,\n",
       " 5,\n",
       " 2,\n",
       " 4,\n",
       " 3,\n",
       " 3,\n",
       " 8,\n",
       " 1,\n",
       " 2,\n",
       " 7,\n",
       " 6,\n",
       " 8,\n",
       " 3,\n",
       " 2,\n",
       " 3,\n",
       " 9,\n",
       " 1,\n",
       " 1,\n",
       " 5,\n",
       " 3,\n",
       " 4,\n",
       " 2,\n",
       " 4,\n",
       " 2,\n",
       " 6,\n",
       " 6,\n",
       " 1,\n",
       " 3,\n",
       " 2,\n",
       " 5,\n",
       " 4,\n",
       " 2,\n",
       " 4,\n",
       " 4,\n",
       " 1,\n",
       " 5,\n",
       " 1,\n",
       " 4,\n",
       " 2,\n",
       " 2,\n",
       " 2,\n",
       " 6,\n",
       " 2,\n",
       " 3,\n",
       " 6,\n",
       " 7,\n",
       " 3,\n",
       " 1,\n",
       " 7,\n",
       " 9,\n",
       " 1,\n",
       " 3,\n",
       " 6,\n",
       " 1,\n",
       " 1,\n",
       " 5,\n",
       " 6,\n",
       " 5,\n",
       " 6,\n",
       " 3,\n",
       " 13,\n",
       " 2,\n",
       " 3,\n",
       " 4,\n",
       " 1,\n",
       " 3,\n",
       " 7,\n",
       " 4,\n",
       " 5,\n",
       " 2,\n",
       " 3,\n",
       " 4,\n",
       " 2,\n",
       " 2,\n",
       " 8,\n",
       " 1,\n",
       " 5,\n",
       " 1,\n",
       " 3,\n",
       " 2,\n",
       " 1,\n",
       " 3,\n",
       " 3,\n",
       " 1,\n",
       " 4,\n",
       " 1,\n",
       " 4,\n",
       " 6,\n",
       " 2,\n",
       " 5,\n",
       " 4,\n",
       " 9,\n",
       " 2,\n",
       " 7,\n",
       " 1,\n",
       " 3,\n",
       " 2,\n",
       " 3,\n",
       " 1,\n",
       " 5,\n",
       " 2,\n",
       " 6,\n",
       " 2,\n",
       " 7,\n",
       " 2,\n",
       " 2,\n",
       " 7,\n",
       " 1,\n",
       " 1,\n",
       " 10,\n",
       " 1,\n",
       " 5,\n",
       " 1,\n",
       " 3,\n",
       " 2,\n",
       " 2,\n",
       " 4,\n",
       " 11,\n",
       " 4,\n",
       " 3,\n",
       " 3,\n",
       " 1,\n",
       " 3,\n",
       " 3,\n",
       " 1,\n",
       " 6,\n",
       " 1,\n",
       " 1,\n",
       " 1,\n",
       " 1,\n",
       " 1,\n",
       " 4,\n",
       " 1,\n",
       " 3,\n",
       " 1,\n",
       " 2,\n",
       " 4,\n",
       " 1,\n",
       " 2,\n",
       " 6,\n",
       " 2,\n",
       " 2,\n",
       " 10,\n",
       " 1,\n",
       " 1,\n",
       " 10,\n",
       " 5,\n",
       " 1,\n",
       " 5,\n",
       " 1,\n",
       " 5,\n",
       " 1,\n",
       " 5,\n",
       " 1,\n",
       " 5,\n",
       " 1,\n",
       " 5,\n",
       " 1,\n",
       " 5,\n",
       " 1,\n",
       " 5,\n",
       " 1,\n",
       " 6,\n",
       " 1,\n",
       " 3,\n",
       " 1,\n",
       " 5,\n",
       " 1,\n",
       " 4,\n",
       " 1,\n",
       " 7,\n",
       " 1,\n",
       " 5,\n",
       " 1,\n",
       " 9,\n",
       " 1,\n",
       " 5,\n",
       " 1,\n",
       " 7,\n",
       " 1,\n",
       " 7,\n",
       " 1,\n",
       " 6,\n",
       " 1,\n",
       " 7,\n",
       " 1,\n",
       " 7,\n",
       " 1,\n",
       " 5,\n",
       " 1,\n",
       " 4,\n",
       " 1,\n",
       " 4,\n",
       " 1,\n",
       " 5,\n",
       " 1,\n",
       " 5,\n",
       " 1,\n",
       " 4,\n",
       " 1,\n",
       " 4,\n",
       " 1,\n",
       " 11,\n",
       " 1,\n",
       " 8,\n",
       " 1,\n",
       " 8,\n",
       " 2,\n",
       " 1,\n",
       " 3,\n",
       " 1,\n",
       " 3,\n",
       " 1,\n",
       " 9,\n",
       " 2,\n",
       " 2,\n",
       " 4,\n",
       " 2,\n",
       " 4,\n",
       " 4,\n",
       " 4,\n",
       " 4,\n",
       " 11,\n",
       " 8,\n",
       " 3,\n",
       " 4,\n",
       " 1,\n",
       " 4,\n",
       " 2,\n",
       " 1,\n",
       " 4,\n",
       " 5,\n",
       " 2,\n",
       " 1,\n",
       " 3,\n",
       " 1,\n",
       " 3,\n",
       " 7,\n",
       " 2,\n",
       " 4,\n",
       " 4,\n",
       " 7,\n",
       " 3,\n",
       " 4,\n",
       " 8,\n",
       " 3,\n",
       " 6,\n",
       " 1,\n",
       " 6,\n",
       " 2,\n",
       " 3,\n",
       " 5,\n",
       " 1,\n",
       " 7,\n",
       " 2,\n",
       " 8,\n",
       " 6,\n",
       " 9,\n",
       " 2,\n",
       " 6,\n",
       " 2,\n",
       " 5,\n",
       " 7,\n",
       " 4,\n",
       " 2,\n",
       " 3,\n",
       " 4,\n",
       " 10,\n",
       " 1,\n",
       " 6,\n",
       " 2,\n",
       " 7,\n",
       " 1,\n",
       " 9,\n",
       " 3,\n",
       " 4,\n",
       " 3,\n",
       " 1,\n",
       " 2,\n",
       " 5,\n",
       " 4,\n",
       " 2,\n",
       " 5,\n",
       " 1,\n",
       " 4,\n",
       " 3,\n",
       " 8,\n",
       " 1,\n",
       " 8,\n",
       " 5,\n",
       " 10,\n",
       " 1,\n",
       " 7,\n",
       " 9,\n",
       " 1,\n",
       " 2,\n",
       " 5,\n",
       " 8,\n",
       " 1,\n",
       " 3,\n",
       " 9,\n",
       " 6,\n",
       " 8,\n",
       " 1,\n",
       " 3,\n",
       " 4,\n",
       " 2,\n",
       " 1,\n",
       " 2,\n",
       " 8,\n",
       " 3,\n",
       " 7,\n",
       " 7,\n",
       " 9,\n",
       " 1,\n",
       " 2,\n",
       " 4,\n",
       " 2,\n",
       " 3,\n",
       " 5,\n",
       " 4,\n",
       " 9,\n",
       " 1,\n",
       " 5,\n",
       " 8,\n",
       " 3,\n",
       " 6,\n",
       " 8,\n",
       " 2,\n",
       " 12,\n",
       " 1,\n",
       " 2,\n",
       " 9,\n",
       " 1,\n",
       " 8,\n",
       " 4,\n",
       " 1,\n",
       " 1,\n",
       " 3,\n",
       " 4,\n",
       " 2,\n",
       " 4,\n",
       " 3,\n",
       " 4,\n",
       " 13,\n",
       " 4,\n",
       " 1,\n",
       " 7,\n",
       " 1,\n",
       " 7,\n",
       " 1,\n",
       " 3,\n",
       " 4,\n",
       " 2,\n",
       " 9,\n",
       " 1,\n",
       " 2,\n",
       " 4,\n",
       " 7,\n",
       " 3,\n",
       " 11,\n",
       " 1,\n",
       " 9,\n",
       " 3,\n",
       " 3,\n",
       " 1,\n",
       " 2,\n",
       " 4,\n",
       " 4,\n",
       " 4,\n",
       " 1,\n",
       " 4,\n",
       " 5,\n",
       " 2,\n",
       " 1,\n",
       " 3,\n",
       " 1,\n",
       " 3,\n",
       " 1,\n",
       " 5,\n",
       " 11,\n",
       " 1,\n",
       " 2,\n",
       " 1,\n",
       " 4,\n",
       " 9,\n",
       " 2,\n",
       " 4,\n",
       " 8,\n",
       " 1,\n",
       " 6,\n",
       " 5,\n",
       " 5,\n",
       " 2,\n",
       " 4,\n",
       " 2,\n",
       " 4,\n",
       " 5,\n",
       " 4,\n",
       " 4,\n",
       " 4,\n",
       " 1,\n",
       " 3,\n",
       " 3,\n",
       " 4,\n",
       " 4,\n",
       " 4,\n",
       " 6,\n",
       " 5,\n",
       " 2,\n",
       " 3,\n",
       " 4,\n",
       " 1,\n",
       " 6,\n",
       " 1,\n",
       " 3,\n",
       " 4,\n",
       " 4,\n",
       " 3,\n",
       " 9,\n",
       " 5,\n",
       " 2,\n",
       " 3,\n",
       " 1,\n",
       " 3,\n",
       " 4,\n",
       " 4,\n",
       " 1,\n",
       " 8,\n",
       " 1,\n",
       " 3,\n",
       " 1,\n",
       " 3,\n",
       " 4,\n",
       " 9,\n",
       " 4,\n",
       " 5,\n",
       " 1,\n",
       " 3,\n",
       " 3,\n",
       " 2,\n",
       " 4,\n",
       " 7,\n",
       " 1,\n",
       " 4,\n",
       " 4,\n",
       " 4,\n",
       " 3,\n",
       " 5,\n",
       " 7,\n",
       " 1,\n",
       " 3,\n",
       " 2,\n",
       " 3,\n",
       " 10,\n",
       " 10,\n",
       " 7,\n",
       " 2,\n",
       " 4,\n",
       " 2,\n",
       " 2,\n",
       " 1,\n",
       " 3,\n",
       " 1,\n",
       " 4,\n",
       " 1,\n",
       " 3,\n",
       " 2,\n",
       " 3,\n",
       " 4,\n",
       " 3,\n",
       " 4,\n",
       " 5,\n",
       " 2,\n",
       " 4,\n",
       " 2,\n",
       " 6,\n",
       " 3,\n",
       " 5,\n",
       " 1,\n",
       " 2,\n",
       " 2,\n",
       " 4,\n",
       " 3,\n",
       " 4,\n",
       " 5,\n",
       " 2,\n",
       " 3,\n",
       " 4,\n",
       " 2,\n",
       " 9,\n",
       " 1,\n",
       " 5,\n",
       " 4,\n",
       " 1,\n",
       " 5,\n",
       " 5,\n",
       " 3,\n",
       " 7,\n",
       " 5,\n",
       " 3,\n",
       " 3,\n",
       " 9,\n",
       " 3,\n",
       " 2,\n",
       " 1,\n",
       " 3,\n",
       " 4,\n",
       " 4,\n",
       " 4,\n",
       " 5,\n",
       " 3,\n",
       " 3,\n",
       " 5,\n",
       " 2,\n",
       " 3,\n",
       " 5,\n",
       " 1,\n",
       " 4,\n",
       " 4,\n",
       " 4,\n",
       " 6,\n",
       " 1,\n",
       " 3,\n",
       " 4,\n",
       " 7,\n",
       " 3,\n",
       " 4,\n",
       " 4,\n",
       " 6,\n",
       " 3,\n",
       " 8,\n",
       " 3,\n",
       " 3,\n",
       " 5,\n",
       " 1,\n",
       " 7,\n",
       " 7,\n",
       " 1,\n",
       " 3,\n",
       " 6,\n",
       " 8,\n",
       " 2,\n",
       " 4,\n",
       " 1,\n",
       " 8,\n",
       " 7,\n",
       " 1,\n",
       " 7,\n",
       " 1,\n",
       " 3,\n",
       " 7,\n",
       " 1,\n",
       " 7,\n",
       " 4,\n",
       " 6,\n",
       " 1,\n",
       " 4,\n",
       " 2,\n",
       " 6,\n",
       " 3,\n",
       " 10,\n",
       " 6,\n",
       " 8,\n",
       " 2,\n",
       " 5,\n",
       " 1,\n",
       " 2,\n",
       " 5,\n",
       " 6,\n",
       " 14,\n",
       " 7,\n",
       " 1,\n",
       " 8,\n",
       " 1,\n",
       " 1,\n",
       " 3,\n",
       " 3,\n",
       " 7,\n",
       " 5,\n",
       " 6,\n",
       " 2,\n",
       " 2,\n",
       " 7,\n",
       " 1,\n",
       " 1,\n",
       " 9,\n",
       " 6,\n",
       " 1,\n",
       " 4,\n",
       " 2,\n",
       " 5,\n",
       " 5,\n",
       " 3,\n",
       " 1,\n",
       " 3,\n",
       " 5,\n",
       " 5,\n",
       " 3,\n",
       " 4,\n",
       " 2,\n",
       " 2,\n",
       " 5,\n",
       " 2,\n",
       " 2,\n",
       " 3,\n",
       " 1,\n",
       " 1,\n",
       " 3,\n",
       " 3,\n",
       " 4,\n",
       " 3,\n",
       " 8,\n",
       " 1,\n",
       " 5,\n",
       " 4,\n",
       " 2,\n",
       " 7,\n",
       " 2,\n",
       " 5,\n",
       " 2,\n",
       " 2,\n",
       " 5,\n",
       " 1,\n",
       " 1,\n",
       " 5,\n",
       " 2,\n",
       " 3,\n",
       " 5,\n",
       " 1,\n",
       " 5,\n",
       " 2,\n",
       " 4,\n",
       " 9,\n",
       " 4,\n",
       " 4,\n",
       " 4,\n",
       " 4,\n",
       " 2,\n",
       " 4,\n",
       " 7,\n",
       " 2,\n",
       " 2,\n",
       " 6,\n",
       " 1,\n",
       " 1,\n",
       " 2,\n",
       " 4,\n",
       " 3,\n",
       " 1,\n",
       " 3,\n",
       " 4,\n",
       " 4,\n",
       " 3,\n",
       " 4,\n",
       " 1,\n",
       " 3,\n",
       " 5,\n",
       " 1,\n",
       " 3,\n",
       " 6,\n",
       " 5,\n",
       " 1,\n",
       " 5,\n",
       " 6,\n",
       " 9,\n",
       " 3,\n",
       " 8,\n",
       " 7,\n",
       " 1,\n",
       " 4,\n",
       " 9,\n",
       " 4,\n",
       " 7,\n",
       " 7,\n",
       " 1,\n",
       " 3,\n",
       " 2,\n",
       " 5,\n",
       " 4,\n",
       " 3,\n",
       " 6,\n",
       " 4,\n",
       " 2,\n",
       " 2,\n",
       " 3,\n",
       " 3,\n",
       " 2,\n",
       " 2,\n",
       " 6,\n",
       " 1,\n",
       " 3,\n",
       " 4,\n",
       " 5,\n",
       " 6,\n",
       " 7,\n",
       " 6,\n",
       " 6,\n",
       " 3,\n",
       " 5,\n",
       " 2,\n",
       " 4,\n",
       " 7,\n",
       " 1,\n",
       " 1,\n",
       " 5,\n",
       " 1,\n",
       " 2,\n",
       " 2,\n",
       " 5,\n",
       " 1,\n",
       " 4,\n",
       " 1,\n",
       " 2,\n",
       " 5,\n",
       " 1,\n",
       " 4,\n",
       " 2,\n",
       " 4,\n",
       " 3,\n",
       " 13,\n",
       " 4,\n",
       " 4,\n",
       " 5,\n",
       " 7,\n",
       " 2,\n",
       " 3,\n",
       " 1,\n",
       " 3,\n",
       " 9,\n",
       " 2,\n",
       " 3,\n",
       " 10,\n",
       " 4,\n",
       " 2,\n",
       " 3,\n",
       " 6,\n",
       " 2,\n",
       " 2,\n",
       " 7,\n",
       " 1,\n",
       " 1,\n",
       " 8,\n",
       " 1,\n",
       " 1,\n",
       " 6,\n",
       " 1,\n",
       " 1,\n",
       " 3,\n",
       " 6,\n",
       " 3,\n",
       " 8,\n",
       " 3,\n",
       " 4,\n",
       " 3,\n",
       " 3,\n",
       " 7,\n",
       " 6,\n",
       " 4,\n",
       " 3,\n",
       " 1,\n",
       " 5,\n",
       " 5,\n",
       " 3,\n",
       " 6,\n",
       " 3,\n",
       " 11,\n",
       " 6,\n",
       " 7,\n",
       " 1,\n",
       " 4,\n",
       " 2,\n",
       " 2,\n",
       " 4,\n",
       " 2,\n",
       " 6,\n",
       " 2,\n",
       " 4,\n",
       " 5,\n",
       " 2,\n",
       " 6,\n",
       " 2,\n",
       " 4,\n",
       " 2,\n",
       " 2,\n",
       " 7,\n",
       " 1,\n",
       " 1,\n",
       " 5,\n",
       " 1,\n",
       " 1,\n",
       " 8,\n",
       " 3,\n",
       " 2,\n",
       " 9,\n",
       " 3,\n",
       " 4,\n",
       " 2,\n",
       " 3,\n",
       " 3,\n",
       " 1,\n",
       " 4,\n",
       " 5,\n",
       " 7,\n",
       " 1,\n",
       " 5,\n",
       " 4,\n",
       " 6,\n",
       " 3,\n",
       " 5,\n",
       " 8,\n",
       " 2,\n",
       " 3,\n",
       " 3,\n",
       " 1,\n",
       " 8,\n",
       " 1,\n",
       " 5,\n",
       " 3,\n",
       " 6,\n",
       " 1,\n",
       " 3,\n",
       " 3,\n",
       " 2,\n",
       " 1,\n",
       " 4,\n",
       " 9,\n",
       " 4,\n",
       " 1,\n",
       " 3,\n",
       " 4,\n",
       " 4,\n",
       " 7,\n",
       " 2,\n",
       " 1,\n",
       " 4,\n",
       " 1,\n",
       " 7,\n",
       " 1,\n",
       " 7,\n",
       " 3,\n",
       " 5,\n",
       " 2,\n",
       " 3,\n",
       " 5,\n",
       " 1,\n",
       " 3,\n",
       " 7,\n",
       " 3,\n",
       " 3,\n",
       " 6,\n",
       " 3,\n",
       " 4,\n",
       " 1,\n",
       " 4,\n",
       " 2,\n",
       " 2,\n",
       " 5,\n",
       " 1,\n",
       " 1,\n",
       " 6,\n",
       " 1,\n",
       " 1,\n",
       " 3,\n",
       " 4,\n",
       " 7,\n",
       " 2,\n",
       " 1,\n",
       " 2,\n",
       " 7,\n",
       " 4,\n",
       " 7,\n",
       " 4,\n",
       " 4,\n",
       " 1,\n",
       " 4,\n",
       " 2,\n",
       " 8,\n",
       " 5,\n",
       " 1,\n",
       " 6,\n",
       " 1,\n",
       " 5,\n",
       " 3,\n",
       " 5,\n",
       " 2,\n",
       " 4,\n",
       " 5,\n",
       " 5,\n",
       " 3,\n",
       " 5,\n",
       " 5,\n",
       " 1,\n",
       " 2,\n",
       " 5,\n",
       " 2,\n",
       " 7,\n",
       " 4,\n",
       " 2,\n",
       " 3,\n",
       " 4,\n",
       " 1,\n",
       " 3,\n",
       " 3,\n",
       " 4,\n",
       " 6,\n",
       " 4,\n",
       " 7,\n",
       " 2,\n",
       " 3,\n",
       " 3,\n",
       " 7,\n",
       " 1,\n",
       " 2,\n",
       " 5,\n",
       " 4,\n",
       " 4,\n",
       " 5,\n",
       " 1,\n",
       " 5,\n",
       " 1,\n",
       " 4,\n",
       " 5,\n",
       " 5,\n",
       " 4,\n",
       " 1,\n",
       " 2,\n",
       " ...]"
      ]
     },
     "execution_count": 68,
     "metadata": {},
     "output_type": "execute_result"
    }
   ],
   "source": [
    "[len(w) for w in text1]"
   ]
  },
  {
   "cell_type": "code",
   "execution_count": 69,
   "metadata": {},
   "outputs": [],
   "source": [
    "fdist = FreqDist([len(w) for w in text1])"
   ]
  },
  {
   "cell_type": "code",
   "execution_count": 76,
   "metadata": {},
   "outputs": [
    {
     "data": {
      "text/plain": [
       "FreqDist({3: 50223, 1: 47933, 4: 42345, 2: 38513, 5: 26597, 6: 17111, 7: 14399, 8: 9966, 9: 6428, 10: 3528, ...})"
      ]
     },
     "execution_count": 76,
     "metadata": {},
     "output_type": "execute_result"
    }
   ],
   "source": [
    "fdist"
   ]
  },
  {
   "cell_type": "code",
   "execution_count": 75,
   "metadata": {},
   "outputs": [
    {
     "data": {
      "text/plain": [
       "dict_keys([1, 4, 2, 6, 8, 9, 11, 5, 7, 3, 10, 12, 13, 14, 16, 15, 17, 18, 20])"
      ]
     },
     "execution_count": 75,
     "metadata": {},
     "output_type": "execute_result"
    }
   ],
   "source": [
    "fdist.keys()"
   ]
  },
  {
   "cell_type": "code",
   "execution_count": 77,
   "metadata": {},
   "outputs": [
    {
     "data": {
      "text/plain": [
       "dict_items([(1, 47933), (4, 42345), (2, 38513), (6, 17111), (8, 9966), (9, 6428), (11, 1873), (5, 26597), (7, 14399), (3, 50223), (10, 3528), (12, 1053), (13, 567), (14, 177), (16, 22), (15, 70), (17, 12), (18, 1), (20, 1)])"
      ]
     },
     "execution_count": 77,
     "metadata": {},
     "output_type": "execute_result"
    }
   ],
   "source": [
    "fdist.items()"
   ]
  },
  {
   "cell_type": "code",
   "execution_count": 78,
   "metadata": {},
   "outputs": [
    {
     "data": {
      "text/plain": [
       "50223"
      ]
     },
     "execution_count": 78,
     "metadata": {},
     "output_type": "execute_result"
    }
   ],
   "source": [
    "fdist[3]"
   ]
  },
  {
   "cell_type": "code",
   "execution_count": 40,
   "metadata": {},
   "outputs": [
    {
     "data": {
      "text/plain": [
       "FreqDist({',': 18713, 'the': 13721, '.': 6862, 'of': 6536, 'and': 6024, 'a': 4569, 'to': 4542, ';': 4072, 'in': 3916, 'that': 2982, ...})"
      ]
     },
     "execution_count": 40,
     "metadata": {},
     "output_type": "execute_result"
    }
   ],
   "source": [
    "fdist_v2 = FreqDist([w for w in text1])\n",
    "fdist_v2"
   ]
  },
  {
   "cell_type": "code",
   "execution_count": 87,
   "metadata": {},
   "outputs": [
    {
     "data": {
      "text/plain": [
       "0.19255882431878046"
      ]
     },
     "execution_count": 87,
     "metadata": {},
     "output_type": "execute_result"
    }
   ],
   "source": [
    "fdist.freq(3)"
   ]
  },
  {
   "cell_type": "markdown",
   "metadata": {},
   "source": [
    "<img src=\"files/image1.png\" width=\"600\">"
   ]
  },
  {
   "cell_type": "markdown",
   "metadata": {},
   "source": [
    "## Chapter 3 - Processing Raw Text"
   ]
  },
  {
   "cell_type": "markdown",
   "metadata": {},
   "source": [
    "For our language processing, we want to break up the string into words and punctuation, as we saw in Chapter 1. This step is called tokenzization and it produces our familiar structure, a list of words and punctuation"
   ]
  },
  {
   "cell_type": "markdown",
   "metadata": {},
   "source": [
    "**Finding Word Stems**"
   ]
  },
  {
   "cell_type": "markdown",
   "metadata": {},
   "source": [
    "Laptop and laptops are just two forms of the same dictionary (or lemma). For some language processing tasks we want to igore words ending and just deal with words stems"
   ]
  },
  {
   "cell_type": "code",
   "execution_count": 1,
   "metadata": {},
   "outputs": [],
   "source": [
    "def stem(word):\n",
    "    for suffix in ['in', 'ly', 'ed', 'ious', 'ies', 'ive', 'es', 's', 'ment']:\n",
    "        if word.endwith(suffix):\n",
    "            return word[:-len(suffix)]\n",
    "    return word"
   ]
  },
  {
   "cell_type": "markdown",
   "metadata": {},
   "source": [
    "Often we want to go further than this and strip odd any affixes, a task known as stemming. A further step is to make sure that the resulting form is a known word in a dictionary, a task known as lemmatization"
   ]
  },
  {
   "cell_type": "markdown",
   "metadata": {},
   "source": [
    "Stemming is not a well-defined process and we typically pick the stemmer that best suits the application we have in mind. The Porter is a good choice if you are indexing some texts and want to support search using alternative forms of words"
   ]
  },
  {
   "cell_type": "markdown",
   "metadata": {},
   "source": [
    "#### Regular Expression"
   ]
  },
  {
   "cell_type": "code",
   "execution_count": null,
   "metadata": {},
   "outputs": [],
   "source": [
    "'''\n",
    "Identifiers:\n",
    "    \\d any number\n",
    "    \\D anything but a number\n",
    "    \\s space\n",
    "    \\S anything but a space\n",
    "    \\w any character\n",
    "    \\W anything but a character\n",
    "    . any character, excepet for a newline\n",
    "    \\b the whitespace around words\n",
    "    \\. a period\n",
    "\n",
    "Modifiers:\n",
    "    {1-3} we're expecting 1-3\n",
    "    + Match 1 or more\n",
    "    ? Match 0 or 1\n",
    "    * Match 0 or more\n",
    "    $ match the end of a string\n",
    "    ^ matching the beginning of a string\n",
    "    | either\n",
    "    [] range or \"varieance\"\n",
    "    {x} expecting 'x' amount\n",
    "\n",
    "White Space Characters:\n",
    "    \\n new line\n",
    "    \\s space\n",
    "    \\t tab\n",
    "    \n",
    "Don't Forget!\n",
    ". + * [] $ ^ () {} [] | \\ \n",
    "'''"
   ]
  },
  {
   "cell_type": "code",
   "execution_count": 3,
   "metadata": {},
   "outputs": [],
   "source": [
    "import re\n",
    "exampleString = '''\n",
    "Jessica is 15 old, and Daniel is 27 years old.\n",
    "Edward is 97, and his grandfather, Oscar is 102\n",
    "'''\n"
   ]
  },
  {
   "cell_type": "code",
   "execution_count": 4,
   "metadata": {},
   "outputs": [
    {
     "data": {
      "text/plain": [
       "'\\nJessica is 15 old, and Daniel is 27 years old.\\nEdward is 97, and his grandfather, Oscar is 102\\n'"
      ]
     },
     "execution_count": 4,
     "metadata": {},
     "output_type": "execute_result"
    }
   ],
   "source": [
    "exampleString"
   ]
  },
  {
   "cell_type": "code",
   "execution_count": 5,
   "metadata": {},
   "outputs": [
    {
     "name": "stdout",
     "output_type": "stream",
     "text": [
      "\n",
      "Jessica is 15 old, and Daniel is 27 years old.\n",
      "Edward is 97, and his grandfather, Oscar is 102\n",
      "\n"
     ]
    }
   ],
   "source": [
    "print(exampleString)"
   ]
  },
  {
   "cell_type": "markdown",
   "metadata": {},
   "source": [
    "'''\n",
    "A ideia é que o r leia exatamente oq está dentro das aspas \n",
    "\\d faz com que o re procure por número de dígitos\n",
    "{1-3} diz q aceita que o número tenha entre 1 até 3 dígitos\n",
    "ie, 0 até 999\n",
    "'''"
   ]
  },
  {
   "cell_type": "code",
   "execution_count": 10,
   "metadata": {},
   "outputs": [
    {
     "name": "stdout",
     "output_type": "stream",
     "text": [
      "['15', '27', '97', '102']\n"
     ]
    }
   ],
   "source": [
    "ages = re.findall(r'\\d{1,3}',exampleString)\n",
    "print(ages)"
   ]
  },
  {
   "cell_type": "code",
   "execution_count": 13,
   "metadata": {},
   "outputs": [
    {
     "name": "stdout",
     "output_type": "stream",
     "text": [
      "oi meu nome é  \n",
      " Yoshio\n"
     ]
    }
   ],
   "source": [
    "print('oi meu nome é  \\n Yoshio')"
   ]
  },
  {
   "cell_type": "code",
   "execution_count": 21,
   "metadata": {},
   "outputs": [
    {
     "name": "stdout",
     "output_type": "stream",
     "text": [
      "oi meu nome é  \n",
      " Yoshio\n"
     ]
    }
   ],
   "source": [
    "print('oi meu nome é  \\n Yoshio')"
   ]
  },
  {
   "cell_type": "code",
   "execution_count": 20,
   "metadata": {},
   "outputs": [
    {
     "name": "stdout",
     "output_type": "stream",
     "text": [
      "['Jessica', 'Daniel', 'Edward', 'Oscar']\n"
     ]
    }
   ],
   "source": [
    "names = re.findall(r'[A-Z][a-z]*', exampleString)\n",
    "print(names)"
   ]
  },
  {
   "cell_type": "markdown",
   "metadata": {},
   "source": [
    "## Chapter 4 - Writting Structured Programs"
   ]
  },
  {
   "cell_type": "markdown",
   "metadata": {},
   "source": [
    "** Structure of a Python Module **"
   ]
  },
  {
   "cell_type": "markdown",
   "metadata": {},
   "source": [
    "The purpose of a program module is to bring logically related definitions and functions\n",
    "together in order to facilitate reuse and abstraction. \n",
    "<br>\n",
    "<br>\n",
    "Python modules are nothing more\n",
    "than individual .py files. "
   ]
  },
  {
   "cell_type": "code",
   "execution_count": 30,
   "metadata": {},
   "outputs": [
    {
     "name": "stdout",
     "output_type": "stream",
     "text": [
      "<code object alignment_error_rate at 0x000001D6147BD5D0, file \"C:\\Users\\Rafael\\Anaconda3\\lib\\site-packages\\nltk\\translate\\metrics.py\", line 11>\n"
     ]
    }
   ],
   "source": [
    "# You can locate the code for any NLTK module on your system suging the _file_ variable\n",
    "print(nltk.metrics.alignment_error_rate.__code__)\n",
    "# This returns the location of the compliled .pyc file for the module"
   ]
  },
  {
   "cell_type": "code",
   "execution_count": 33,
   "metadata": {},
   "outputs": [
    {
     "name": "stdout",
     "output_type": "stream",
     "text": [
      "Help on function alignment_error_rate in module nltk.translate.metrics:\n",
      "\n",
      "alignment_error_rate(reference, hypothesis, possible=None)\n",
      "    Return the Alignment Error Rate (AER) of an alignment\n",
      "    with respect to a \"gold standard\" reference alignment.\n",
      "    Return an error rate between 0.0 (perfect alignment) and 1.0 (no\n",
      "    alignment).\n",
      "    \n",
      "        >>> from nltk.translate import Alignment\n",
      "        >>> ref = Alignment([(0, 0), (1, 1), (2, 2)])\n",
      "        >>> test = Alignment([(0, 0), (1, 2), (2, 1)])\n",
      "        >>> alignment_error_rate(ref, test) # doctest: +ELLIPSIS\n",
      "        0.6666666666666667\n",
      "    \n",
      "    :type reference: Alignment\n",
      "    :param reference: A gold standard alignment (sure alignments)\n",
      "    :type hypothesis: Alignment\n",
      "    :param hypothesis: A hypothesis alignment (aka. candidate alignments)\n",
      "    :type possible: Alignment or None\n",
      "    :param possible: A gold standard reference of possible alignments\n",
      "        (defaults to *reference* if None)\n",
      "    :rtype: float or None\n",
      "\n"
     ]
    }
   ],
   "source": [
    "help(nltk.metrics.alignment_error_rate)"
   ]
  },
  {
   "cell_type": "markdown",
   "metadata": {},
   "source": [
    "## Chapter 5 - Cartegorizing and Tagging Words"
   ]
  },
  {
   "cell_type": "markdown",
   "metadata": {},
   "source": [
    "1. What are lexical categories and how are they used in NLP? <br>\n",
    "2. What is good Python data sctructre for storing words and their categories? <br>\n",
    "3. How can we automatically tag each word of a text with its words class?"
   ]
  },
  {
   "cell_type": "markdown",
   "metadata": {},
   "source": [
    "The process of classifying into their parts-of-speech and labeling them accordingly is knwon as part-of-speech tagging, POS tagging or simply tagging"
   ]
  },
  {
   "cell_type": "code",
   "execution_count": 41,
   "metadata": {},
   "outputs": [],
   "source": [
    "text = nltk.word_tokenize(\"And now for something completely different\")"
   ]
  },
  {
   "cell_type": "code",
   "execution_count": 43,
   "metadata": {},
   "outputs": [
    {
     "data": {
      "text/plain": [
       "[('And', 'CC'),\n",
       " ('now', 'RB'),\n",
       " ('for', 'IN'),\n",
       " ('something', 'NN'),\n",
       " ('completely', 'RB'),\n",
       " ('different', 'JJ')]"
      ]
     },
     "execution_count": 43,
     "metadata": {},
     "output_type": "execute_result"
    }
   ],
   "source": [
    "nltk.pos_tag(text)"
   ]
  },
  {
   "cell_type": "markdown",
   "metadata": {},
   "source": [
    "**DEPARA** <br>\n",
    "CC : Coordinating conjunction <br>\n",
    "RB: Adverbs <br>\n",
    "IN: preposition <br>\n",
    "NN: Noun <br>\n",
    "JJ: Adjective "
   ]
  },
  {
   "cell_type": "code",
   "execution_count": 45,
   "metadata": {},
   "outputs": [
    {
     "name": "stdout",
     "output_type": "stream",
     "text": [
      "RB: adverb\n",
      "    occasionally unabatingly maddeningly adventurously professedly\n",
      "    stirringly prominently technologically magisterially predominately\n",
      "    swiftly fiscally pitilessly ...\n"
     ]
    }
   ],
   "source": [
    " nltk.help.upenn_tagset('RB')"
   ]
  },
  {
   "cell_type": "code",
   "execution_count": 49,
   "metadata": {},
   "outputs": [],
   "source": [
    " text = nltk.Text(word.lower() for word in nltk.corpus.brown.words())"
   ]
  },
  {
   "cell_type": "code",
   "execution_count": 50,
   "metadata": {},
   "outputs": [
    {
     "name": "stdout",
     "output_type": "stream",
     "text": [
      "man time day year car moment world house family child country boy\n",
      "state job place way war girl work word\n"
     ]
    }
   ],
   "source": [
    "text.similar('woman')"
   ]
  },
  {
   "cell_type": "code",
   "execution_count": 53,
   "metadata": {},
   "outputs": [
    {
     "name": "stdout",
     "output_type": "stream",
     "text": [
      "made said done put had seen found given left heard was been brought\n",
      "set got that took in told felt\n"
     ]
    }
   ],
   "source": [
    "text.similar('bought')"
   ]
  },
  {
   "cell_type": "code",
   "execution_count": 54,
   "metadata": {},
   "outputs": [
    {
     "name": "stdout",
     "output_type": "stream",
     "text": [
      "in on to of and for with from at by that into as up out down through\n",
      "is all about\n"
     ]
    }
   ],
   "source": [
    "text.similar('over')"
   ]
  },
  {
   "cell_type": "code",
   "execution_count": 66,
   "metadata": {},
   "outputs": [],
   "source": [
    "from nltk.corpus import mac_morpho "
   ]
  },
  {
   "cell_type": "code",
   "execution_count": 70,
   "metadata": {
    "collapsed": true
   },
   "outputs": [
    {
     "ename": "LookupError",
     "evalue": "\n**********************************************************************\n  Resource \u001b[93mmac_morpho\u001b[0m not found.\n  Please use the NLTK Downloader to obtain the resource:\n\n  \u001b[31m>>> import nltk\n  >>> nltk.download('mac_morpho')\n  \u001b[0m\n  Searched in:\n    - 'C:\\\\Users\\\\Rafael/nltk_data'\n    - 'C:\\\\nltk_data'\n    - 'D:\\\\nltk_data'\n    - 'E:\\\\nltk_data'\n    - 'C:\\\\Users\\\\Rafael\\\\Anaconda3\\\\nltk_data'\n    - 'C:\\\\Users\\\\Rafael\\\\Anaconda3\\\\lib\\\\nltk_data'\n    - 'C:\\\\Users\\\\Rafael\\\\AppData\\\\Roaming\\\\nltk_data'\n**********************************************************************\n",
     "output_type": "error",
     "traceback": [
      "\u001b[1;31m---------------------------------------------------------------------------\u001b[0m",
      "\u001b[1;31mLookupError\u001b[0m                               Traceback (most recent call last)",
      "\u001b[1;32m~\\Anaconda3\\lib\\site-packages\\nltk\\corpus\\util.py\u001b[0m in \u001b[0;36m__load\u001b[1;34m(self)\u001b[0m\n\u001b[0;32m     79\u001b[0m             \u001b[1;32mexcept\u001b[0m \u001b[0mLookupError\u001b[0m \u001b[1;32mas\u001b[0m \u001b[0me\u001b[0m\u001b[1;33m:\u001b[0m\u001b[1;33m\u001b[0m\u001b[0m\n\u001b[1;32m---> 80\u001b[1;33m                 \u001b[1;32mtry\u001b[0m\u001b[1;33m:\u001b[0m \u001b[0mroot\u001b[0m \u001b[1;33m=\u001b[0m \u001b[0mnltk\u001b[0m\u001b[1;33m.\u001b[0m\u001b[0mdata\u001b[0m\u001b[1;33m.\u001b[0m\u001b[0mfind\u001b[0m\u001b[1;33m(\u001b[0m\u001b[1;34m'{}/{}'\u001b[0m\u001b[1;33m.\u001b[0m\u001b[0mformat\u001b[0m\u001b[1;33m(\u001b[0m\u001b[0mself\u001b[0m\u001b[1;33m.\u001b[0m\u001b[0msubdir\u001b[0m\u001b[1;33m,\u001b[0m \u001b[0mzip_name\u001b[0m\u001b[1;33m)\u001b[0m\u001b[1;33m)\u001b[0m\u001b[1;33m\u001b[0m\u001b[0m\n\u001b[0m\u001b[0;32m     81\u001b[0m                 \u001b[1;32mexcept\u001b[0m \u001b[0mLookupError\u001b[0m\u001b[1;33m:\u001b[0m \u001b[1;32mraise\u001b[0m \u001b[0me\u001b[0m\u001b[1;33m\u001b[0m\u001b[0m\n",
      "\u001b[1;32m~\\Anaconda3\\lib\\site-packages\\nltk\\data.py\u001b[0m in \u001b[0;36mfind\u001b[1;34m(resource_name, paths)\u001b[0m\n\u001b[0;32m    672\u001b[0m     \u001b[0mresource_not_found\u001b[0m \u001b[1;33m=\u001b[0m \u001b[1;34m'\\n%s\\n%s\\n%s\\n'\u001b[0m \u001b[1;33m%\u001b[0m \u001b[1;33m(\u001b[0m\u001b[0msep\u001b[0m\u001b[1;33m,\u001b[0m \u001b[0mmsg\u001b[0m\u001b[1;33m,\u001b[0m \u001b[0msep\u001b[0m\u001b[1;33m)\u001b[0m\u001b[1;33m\u001b[0m\u001b[0m\n\u001b[1;32m--> 673\u001b[1;33m     \u001b[1;32mraise\u001b[0m \u001b[0mLookupError\u001b[0m\u001b[1;33m(\u001b[0m\u001b[0mresource_not_found\u001b[0m\u001b[1;33m)\u001b[0m\u001b[1;33m\u001b[0m\u001b[0m\n\u001b[0m\u001b[0;32m    674\u001b[0m \u001b[1;33m\u001b[0m\u001b[0m\n",
      "\u001b[1;31mLookupError\u001b[0m: \n**********************************************************************\n  Resource \u001b[93mmac_morpho\u001b[0m not found.\n  Please use the NLTK Downloader to obtain the resource:\n\n  \u001b[31m>>> import nltk\n  >>> nltk.download('mac_morpho')\n  \u001b[0m\n  Searched in:\n    - 'C:\\\\Users\\\\Rafael/nltk_data'\n    - 'C:\\\\nltk_data'\n    - 'D:\\\\nltk_data'\n    - 'E:\\\\nltk_data'\n    - 'C:\\\\Users\\\\Rafael\\\\Anaconda3\\\\nltk_data'\n    - 'C:\\\\Users\\\\Rafael\\\\Anaconda3\\\\lib\\\\nltk_data'\n    - 'C:\\\\Users\\\\Rafael\\\\AppData\\\\Roaming\\\\nltk_data'\n**********************************************************************\n",
      "\nDuring handling of the above exception, another exception occurred:\n",
      "\u001b[1;31mLookupError\u001b[0m                               Traceback (most recent call last)",
      "\u001b[1;32m<ipython-input-70-3c255a536eb2>\u001b[0m in \u001b[0;36m<module>\u001b[1;34m()\u001b[0m\n\u001b[1;32m----> 1\u001b[1;33m \u001b[0mnltk\u001b[0m\u001b[1;33m.\u001b[0m\u001b[0mcorpus\u001b[0m\u001b[1;33m.\u001b[0m\u001b[0mmac_morpho\u001b[0m\u001b[1;33m.\u001b[0m\u001b[0mtagged_words\u001b[0m\u001b[1;33m(\u001b[0m\u001b[1;33m)\u001b[0m\u001b[1;33m\u001b[0m\u001b[0m\n\u001b[0m",
      "\u001b[1;32m~\\Anaconda3\\lib\\site-packages\\nltk\\corpus\\util.py\u001b[0m in \u001b[0;36m__getattr__\u001b[1;34m(self, attr)\u001b[0m\n\u001b[0;32m    114\u001b[0m             \u001b[1;32mraise\u001b[0m \u001b[0mAttributeError\u001b[0m\u001b[1;33m(\u001b[0m\u001b[1;34m\"LazyCorpusLoader object has no attribute '__bases__'\"\u001b[0m\u001b[1;33m)\u001b[0m\u001b[1;33m\u001b[0m\u001b[0m\n\u001b[0;32m    115\u001b[0m \u001b[1;33m\u001b[0m\u001b[0m\n\u001b[1;32m--> 116\u001b[1;33m         \u001b[0mself\u001b[0m\u001b[1;33m.\u001b[0m\u001b[0m__load\u001b[0m\u001b[1;33m(\u001b[0m\u001b[1;33m)\u001b[0m\u001b[1;33m\u001b[0m\u001b[0m\n\u001b[0m\u001b[0;32m    117\u001b[0m         \u001b[1;31m# This looks circular, but its not, since __load() changes our\u001b[0m\u001b[1;33m\u001b[0m\u001b[1;33m\u001b[0m\u001b[0m\n\u001b[0;32m    118\u001b[0m         \u001b[1;31m# __class__ to something new:\u001b[0m\u001b[1;33m\u001b[0m\u001b[1;33m\u001b[0m\u001b[0m\n",
      "\u001b[1;32m~\\Anaconda3\\lib\\site-packages\\nltk\\corpus\\util.py\u001b[0m in \u001b[0;36m__load\u001b[1;34m(self)\u001b[0m\n\u001b[0;32m     79\u001b[0m             \u001b[1;32mexcept\u001b[0m \u001b[0mLookupError\u001b[0m \u001b[1;32mas\u001b[0m \u001b[0me\u001b[0m\u001b[1;33m:\u001b[0m\u001b[1;33m\u001b[0m\u001b[0m\n\u001b[0;32m     80\u001b[0m                 \u001b[1;32mtry\u001b[0m\u001b[1;33m:\u001b[0m \u001b[0mroot\u001b[0m \u001b[1;33m=\u001b[0m \u001b[0mnltk\u001b[0m\u001b[1;33m.\u001b[0m\u001b[0mdata\u001b[0m\u001b[1;33m.\u001b[0m\u001b[0mfind\u001b[0m\u001b[1;33m(\u001b[0m\u001b[1;34m'{}/{}'\u001b[0m\u001b[1;33m.\u001b[0m\u001b[0mformat\u001b[0m\u001b[1;33m(\u001b[0m\u001b[0mself\u001b[0m\u001b[1;33m.\u001b[0m\u001b[0msubdir\u001b[0m\u001b[1;33m,\u001b[0m \u001b[0mzip_name\u001b[0m\u001b[1;33m)\u001b[0m\u001b[1;33m)\u001b[0m\u001b[1;33m\u001b[0m\u001b[0m\n\u001b[1;32m---> 81\u001b[1;33m                 \u001b[1;32mexcept\u001b[0m \u001b[0mLookupError\u001b[0m\u001b[1;33m:\u001b[0m \u001b[1;32mraise\u001b[0m \u001b[0me\u001b[0m\u001b[1;33m\u001b[0m\u001b[0m\n\u001b[0m\u001b[0;32m     82\u001b[0m \u001b[1;33m\u001b[0m\u001b[0m\n\u001b[0;32m     83\u001b[0m         \u001b[1;31m# Load the corpus.\u001b[0m\u001b[1;33m\u001b[0m\u001b[1;33m\u001b[0m\u001b[0m\n",
      "\u001b[1;32m~\\Anaconda3\\lib\\site-packages\\nltk\\corpus\\util.py\u001b[0m in \u001b[0;36m__load\u001b[1;34m(self)\u001b[0m\n\u001b[0;32m     76\u001b[0m         \u001b[1;32melse\u001b[0m\u001b[1;33m:\u001b[0m\u001b[1;33m\u001b[0m\u001b[0m\n\u001b[0;32m     77\u001b[0m             \u001b[1;32mtry\u001b[0m\u001b[1;33m:\u001b[0m\u001b[1;33m\u001b[0m\u001b[0m\n\u001b[1;32m---> 78\u001b[1;33m                 \u001b[0mroot\u001b[0m \u001b[1;33m=\u001b[0m \u001b[0mnltk\u001b[0m\u001b[1;33m.\u001b[0m\u001b[0mdata\u001b[0m\u001b[1;33m.\u001b[0m\u001b[0mfind\u001b[0m\u001b[1;33m(\u001b[0m\u001b[1;34m'{}/{}'\u001b[0m\u001b[1;33m.\u001b[0m\u001b[0mformat\u001b[0m\u001b[1;33m(\u001b[0m\u001b[0mself\u001b[0m\u001b[1;33m.\u001b[0m\u001b[0msubdir\u001b[0m\u001b[1;33m,\u001b[0m \u001b[0mself\u001b[0m\u001b[1;33m.\u001b[0m\u001b[0m__name\u001b[0m\u001b[1;33m)\u001b[0m\u001b[1;33m)\u001b[0m\u001b[1;33m\u001b[0m\u001b[0m\n\u001b[0m\u001b[0;32m     79\u001b[0m             \u001b[1;32mexcept\u001b[0m \u001b[0mLookupError\u001b[0m \u001b[1;32mas\u001b[0m \u001b[0me\u001b[0m\u001b[1;33m:\u001b[0m\u001b[1;33m\u001b[0m\u001b[0m\n\u001b[0;32m     80\u001b[0m                 \u001b[1;32mtry\u001b[0m\u001b[1;33m:\u001b[0m \u001b[0mroot\u001b[0m \u001b[1;33m=\u001b[0m \u001b[0mnltk\u001b[0m\u001b[1;33m.\u001b[0m\u001b[0mdata\u001b[0m\u001b[1;33m.\u001b[0m\u001b[0mfind\u001b[0m\u001b[1;33m(\u001b[0m\u001b[1;34m'{}/{}'\u001b[0m\u001b[1;33m.\u001b[0m\u001b[0mformat\u001b[0m\u001b[1;33m(\u001b[0m\u001b[0mself\u001b[0m\u001b[1;33m.\u001b[0m\u001b[0msubdir\u001b[0m\u001b[1;33m,\u001b[0m \u001b[0mzip_name\u001b[0m\u001b[1;33m)\u001b[0m\u001b[1;33m)\u001b[0m\u001b[1;33m\u001b[0m\u001b[0m\n",
      "\u001b[1;32m~\\Anaconda3\\lib\\site-packages\\nltk\\data.py\u001b[0m in \u001b[0;36mfind\u001b[1;34m(resource_name, paths)\u001b[0m\n\u001b[0;32m    671\u001b[0m     \u001b[0msep\u001b[0m \u001b[1;33m=\u001b[0m \u001b[1;34m'*'\u001b[0m \u001b[1;33m*\u001b[0m \u001b[1;36m70\u001b[0m\u001b[1;33m\u001b[0m\u001b[0m\n\u001b[0;32m    672\u001b[0m     \u001b[0mresource_not_found\u001b[0m \u001b[1;33m=\u001b[0m \u001b[1;34m'\\n%s\\n%s\\n%s\\n'\u001b[0m \u001b[1;33m%\u001b[0m \u001b[1;33m(\u001b[0m\u001b[0msep\u001b[0m\u001b[1;33m,\u001b[0m \u001b[0mmsg\u001b[0m\u001b[1;33m,\u001b[0m \u001b[0msep\u001b[0m\u001b[1;33m)\u001b[0m\u001b[1;33m\u001b[0m\u001b[0m\n\u001b[1;32m--> 673\u001b[1;33m     \u001b[1;32mraise\u001b[0m \u001b[0mLookupError\u001b[0m\u001b[1;33m(\u001b[0m\u001b[0mresource_not_found\u001b[0m\u001b[1;33m)\u001b[0m\u001b[1;33m\u001b[0m\u001b[0m\n\u001b[0m\u001b[0;32m    674\u001b[0m \u001b[1;33m\u001b[0m\u001b[0m\n\u001b[0;32m    675\u001b[0m \u001b[1;33m\u001b[0m\u001b[0m\n",
      "\u001b[1;31mLookupError\u001b[0m: \n**********************************************************************\n  Resource \u001b[93mmac_morpho\u001b[0m not found.\n  Please use the NLTK Downloader to obtain the resource:\n\n  \u001b[31m>>> import nltk\n  >>> nltk.download('mac_morpho')\n  \u001b[0m\n  Searched in:\n    - 'C:\\\\Users\\\\Rafael/nltk_data'\n    - 'C:\\\\nltk_data'\n    - 'D:\\\\nltk_data'\n    - 'E:\\\\nltk_data'\n    - 'C:\\\\Users\\\\Rafael\\\\Anaconda3\\\\nltk_data'\n    - 'C:\\\\Users\\\\Rafael\\\\Anaconda3\\\\lib\\\\nltk_data'\n    - 'C:\\\\Users\\\\Rafael\\\\AppData\\\\Roaming\\\\nltk_data'\n**********************************************************************\n"
     ]
    }
   ],
   "source": [
    "nltk.corpus.mac_morpho.tagged_words()"
   ]
  },
  {
   "cell_type": "code",
   "execution_count": 74,
   "metadata": {},
   "outputs": [],
   "source": [
    "from nltk.corpus import brown\n",
    "brown_news_tagged = brown.tagged_words(categories='news')"
   ]
  },
  {
   "cell_type": "code",
   "execution_count": 76,
   "metadata": {},
   "outputs": [],
   "source": [
    "tag_fd = nltk.FreqDist(tag for (word, tag) in brown_news_tagged)"
   ]
  },
  {
   "cell_type": "code",
   "execution_count": 78,
   "metadata": {},
   "outputs": [
    {
     "data": {
      "text/plain": [
       "dict_keys(['AT', 'NP-TL', 'NN-TL', 'JJ-TL', 'VBD', 'NR', 'NN', 'IN', 'NP$', 'JJ', '``', \"''\", 'CS', 'DTI', 'NNS', '.', 'RBR', ',', 'WDT', 'HVD', 'VBZ', 'CC', 'IN-TL', 'BEDZ', 'VBN', 'NP', 'BEN', 'TO', 'VB', 'RB', 'DT', 'PPS', 'DOD', 'AP', 'BER', 'HV', 'DTS', 'VBG', 'PPO', 'QL', 'JJT', 'ABX', 'NN-HL', 'VBN-HL', 'WRB', 'CD', 'MD', 'BE', 'JJR', 'VBG-TL', 'BEZ', 'NN$-TL', 'HVZ', 'ABN', 'PN', 'PPSS', 'PP$', 'DO', 'NN$', 'NNS-HL', 'WPS', '*', 'EX', 'VB-HL', ':', '(', ')', 'NNS-TL', 'NPS', 'JJS', 'RP', '--', 'BED', 'OD', 'BEG', 'AT-HL', 'VBG-HL', 'AT-TL', 'PPL', 'DOZ', 'NP-HL', 'NR$', 'DOD*', 'BEDZ*', ',-HL', 'CC-TL', 'MD*', 'NNS$', 'PPSS+BER', \"'\", 'PPSS+BEM', 'CD-TL', 'RBT', '(-HL', ')-HL', 'MD-HL', 'VBZ-HL', 'IN-HL', 'JJ-HL', 'PPLS', 'CD-HL', 'WPO', 'JJS-TL', 'ABL', 'BER-HL', 'PPS+HVZ', 'VBD-HL', 'RP-HL', 'MD*-HL', 'AP-HL', 'CS-HL', 'DT$', 'HVN', 'FW-IN', 'FW-DT', 'VBN-TL', 'NR-TL', 'NNS$-TL', 'FW-NN', 'HVG', 'DTX', 'OD-TL', 'BEM', 'RB-HL', 'PPSS+MD', 'NPS-HL', 'NPS$', 'WP$', 'NN-TL-HL', 'CC-HL', 'PPS+BEZ', 'AP-TL', 'UH-TL', 'BEZ-HL', 'TO-HL', 'DO*', 'VBN-TL-HL', 'NNS-TL-HL', 'DT-HL', 'BE-HL', 'DOZ*', 'QLP', 'JJR-HL', 'PPSS+HVD', 'FW-IN+NN', 'PP$$', 'JJT-HL', 'NP-TL-HL', 'NPS-TL', 'MD+HV', 'NP$-TL', 'OD-HL', 'JJR-TL', 'VBD-TL', 'DT+BEZ', 'EX+BEZ', 'PPSS+HV', ':-HL', 'PPS+MD', 'UH', 'FW-CC', 'FW-NNS', 'BEDZ-HL', 'NN$-HL', '.-HL', 'HVD*', 'BEZ*', 'AP$', 'NP+BEZ', 'FW-AT-TL', 'VB-TL', 'RB-TL', 'MD-TL', 'PN+HVZ', 'FW-JJ-TL', 'FW-NN-TL', 'ABN-HL', 'PPS+BEZ-HL', 'NR-HL', 'HVD-HL', 'RB$', 'FW-AT-HL', 'DO-HL', 'PP$-TL', 'FW-IN-TL', 'WPS+BEZ', '*-HL', 'DTI-HL', 'PN-HL', 'CD$', 'BER*', 'NNS$-HL', 'PN$', 'BER-TL', 'TO-TL', 'FW-JJ', 'BED*', 'RB+BEZ', 'VB+PPO', 'PPSS-HL', 'HVZ*', 'FW-IN+NN-TL', 'FW-IN+AT-TL', 'NN-NC', 'JJ-NC', 'NR$-TL', 'FW-PP$-NC', 'FW-VB', 'FW-VB-NC', 'JJR-NC', 'NPS$-TL', 'QL-TL', 'FW-AT', 'FW-*', 'FW-CD', 'WQL', 'FW-WDT', 'WDT+BEZ'])"
      ]
     },
     "execution_count": 78,
     "metadata": {},
     "output_type": "execute_result"
    }
   ],
   "source": [
    "tag_fd.keys()"
   ]
  },
  {
   "cell_type": "code",
   "execution_count": 79,
   "metadata": {},
   "outputs": [],
   "source": [
    " word_tag_pairs = nltk.bigrams(brown_news_tagged)"
   ]
  },
  {
   "cell_type": "code",
   "execution_count": 83,
   "metadata": {},
   "outputs": [
    {
     "data": {
      "text/plain": [
       "[]"
      ]
     },
     "execution_count": 83,
     "metadata": {},
     "output_type": "execute_result"
    }
   ],
   "source": [
    "list(nltk.FreqDist(a[1] for (a,b) in word_tag_pairs if b[1]=='NP-TL'))"
   ]
  },
  {
   "cell_type": "markdown",
   "metadata": {},
   "source": [
    "What are the most common verbs in the news text?"
   ]
  },
  {
   "cell_type": "code",
   "execution_count": 86,
   "metadata": {},
   "outputs": [],
   "source": [
    "wsj = nltk.corpus.treebank.tagged_words()"
   ]
  },
  {
   "cell_type": "code",
   "execution_count": 87,
   "metadata": {},
   "outputs": [
    {
     "data": {
      "text/plain": [
       "[('Pierre', 'NNP'), ('Vinken', 'NNP'), (',', ','), ...]"
      ]
     },
     "execution_count": 87,
     "metadata": {},
     "output_type": "execute_result"
    }
   ],
   "source": [
    "wsj"
   ]
  },
  {
   "cell_type": "code",
   "execution_count": 88,
   "metadata": {},
   "outputs": [],
   "source": [
    "word_tag_fd = nltk.FreqDist(wsj)"
   ]
  },
  {
   "cell_type": "code",
   "execution_count": 102,
   "metadata": {},
   "outputs": [
    {
     "data": {
      "text/plain": [
       "FreqDist({(',', ','): 4885, ('the', 'DT'): 4038, ('.', '.'): 3828, ('of', 'IN'): 2319, ('to', 'TO'): 2161, ('a', 'DT'): 1874, ('in', 'IN'): 1554, ('and', 'CC'): 1505, ('*-1', '-NONE-'): 1123, ('0', '-NONE-'): 1099, ...})"
      ]
     },
     "execution_count": 102,
     "metadata": {},
     "output_type": "execute_result"
    }
   ],
   "source": [
    "word_tag_fd"
   ]
  },
  {
   "cell_type": "code",
   "execution_count": 91,
   "metadata": {},
   "outputs": [
    {
     "data": {
      "text/plain": [
       "['join/VB',\n",
       " 'is/VBZ',\n",
       " 'publishing/VBG',\n",
       " 'was/VBD',\n",
       " 'named/VBN',\n",
       " 'used/VBN',\n",
       " 'make/VB',\n",
       " 'has/VBZ',\n",
       " 'caused/VBN',\n",
       " 'exposed/VBN',\n",
       " 'reported/VBD',\n",
       " 'enters/VBZ',\n",
       " 'causing/VBG',\n",
       " 'show/VBP',\n",
       " 'said/VBD',\n",
       " 'makes/VBZ',\n",
       " 'stopped/VBD',\n",
       " 'using/VBG',\n",
       " 'were/VBD',\n",
       " 'reported/VBN',\n",
       " 'appear/VBP',\n",
       " 'bring/VB',\n",
       " \"'re/VBP\",\n",
       " 'talking/VBG',\n",
       " 'heard/VBD',\n",
       " 'having/VBG',\n",
       " 'studied/VBD',\n",
       " 'have/VBP',\n",
       " 'are/VBP',\n",
       " 'led/VBD',\n",
       " 'making/VBG',\n",
       " 'replaced/VBN',\n",
       " 'sold/VBN',\n",
       " 'worked/VBD',\n",
       " 'died/VBN',\n",
       " 'expected/VBN',\n",
       " 'surviving/VBG',\n",
       " 'including/VBG',\n",
       " 'diagnosed/VBN',\n",
       " 'study/VBP',\n",
       " 'appears/VBZ',\n",
       " 'be/VB',\n",
       " 'studied/VBN',\n",
       " 'industrialized/VBN',\n",
       " 'owned/VBN',\n",
       " 'support/VB',\n",
       " 'argue/VBP',\n",
       " 'regulate/VB',\n",
       " 'found/VBN',\n",
       " 'does/VBZ',\n",
       " 'have/VB',\n",
       " 'classified/VBN',\n",
       " 'according/VBG',\n",
       " 'rejected/VBN',\n",
       " 'explained/VBD',\n",
       " 'imposed/VBD',\n",
       " 'remaining/VBG',\n",
       " 'outlawed/VBN',\n",
       " 'made/VBD',\n",
       " 'dumped/VBD',\n",
       " 'imported/VBN',\n",
       " 'poured/VBD',\n",
       " 'mixed/VBD',\n",
       " 'described/VBD',\n",
       " 'hung/VBD',\n",
       " 'ventilated/VBD',\n",
       " \"'s/VBZ\",\n",
       " 'contracted/VBD',\n",
       " 'recognize/VB',\n",
       " 'took/VBD',\n",
       " 'continued/VBD',\n",
       " 'slide/VB',\n",
       " 'expect/VBP',\n",
       " 'tracked/VBN',\n",
       " 'eased/VBD',\n",
       " 'ended/VBD',\n",
       " 'assume/VBP',\n",
       " 'continues/VBZ',\n",
       " 'lengthened/VBD',\n",
       " 'thought/VBN',\n",
       " 'indicate/VB',\n",
       " 'declining/VBG',\n",
       " 'permit/VBP',\n",
       " 'retain/VB',\n",
       " 'considered/VBN',\n",
       " 'rising/VBG',\n",
       " 'capture/VB',\n",
       " 'watch/VBP',\n",
       " 'reached/VBD',\n",
       " 'blip/VB',\n",
       " 'blip/VBP',\n",
       " 'rose/VBD',\n",
       " 'continue/VBP',\n",
       " 'pour/VB',\n",
       " 'grew/VBD',\n",
       " 'beat/VBP',\n",
       " 'vary/VB',\n",
       " 'go/VB',\n",
       " 'yielding/VBG',\n",
       " 'had/VBD',\n",
       " 'invests/VBZ',\n",
       " 'waiving/VBG',\n",
       " 'boosts/VBZ',\n",
       " 'fell/VBD',\n",
       " 'slid/VBD',\n",
       " 'holds/VBZ',\n",
       " 'elected/VBN',\n",
       " 'succeeds/VBZ',\n",
       " 'resigned/VBD',\n",
       " 'approved/VBD',\n",
       " 'holding/VBG',\n",
       " 'expects/VBZ',\n",
       " 'obtain/VB',\n",
       " 'complete/VB',\n",
       " 'completed/VBD',\n",
       " 'based/VBN',\n",
       " 'employs/VBZ',\n",
       " 'suspended/VBD',\n",
       " 'lifted/VBN',\n",
       " 'acts/VBZ',\n",
       " 'issue/VB',\n",
       " 'dropped/VBD',\n",
       " 'lift/VB',\n",
       " 'ensnarled/VBN',\n",
       " 'cutting/VBG',\n",
       " 'voted/VBN',\n",
       " 'raise/VB',\n",
       " 'act/VB',\n",
       " 'default/VB',\n",
       " 'oversee/VB',\n",
       " 'been/VBN',\n",
       " 'manufacturing/VBG',\n",
       " 'jet/VBP',\n",
       " 'settled/VBD',\n",
       " 'decided/VBD',\n",
       " 'treat/VB',\n",
       " 'prove/VB',\n",
       " 'expand/VB',\n",
       " 'receiving/VBG',\n",
       " 'joined/VBD',\n",
       " 'followed/VBD',\n",
       " 'raced/VBD',\n",
       " 'welcomed/VBD',\n",
       " 'held/VBN',\n",
       " 'banned/VBN',\n",
       " 'hauled/VBD',\n",
       " 'drooled/VBD',\n",
       " 'pointed/VBD',\n",
       " 'squeezed/VBD',\n",
       " 'boarding/VBG',\n",
       " 'renovated/VBN',\n",
       " 'fed/VBD',\n",
       " 'Knowing/VBG',\n",
       " 'eat/VBP',\n",
       " 'gave/VBD',\n",
       " 'say/VBP',\n",
       " 'tempts/VBZ',\n",
       " 'return/VB',\n",
       " 'looking/VBG',\n",
       " 'registered/VBD',\n",
       " 'reflecting/VBG',\n",
       " 'released/VBD',\n",
       " 'showed/VBD',\n",
       " 'casting/VBG',\n",
       " 'stood/VBD',\n",
       " 'increased/VBD',\n",
       " 'began/VBD',\n",
       " 'prolonged/VBN',\n",
       " 'remain/VB',\n",
       " 'recorded/VBN',\n",
       " 'accumulated/VBN',\n",
       " 'trying/VBG',\n",
       " 'keep/VB',\n",
       " 'announced/VBD',\n",
       " 'introduce/VB',\n",
       " 'offered/VBN',\n",
       " 'give/VBP',\n",
       " 'maintaining/VBG',\n",
       " 'increasing/VBG',\n",
       " 'become/VBN',\n",
       " 'underscore/VBP',\n",
       " 'increase/VB',\n",
       " 'cost/VB',\n",
       " 'lowered/VBD',\n",
       " 'guaranteed/VBN',\n",
       " 'costs/VBZ',\n",
       " 'announce/VB',\n",
       " 'awards/VBZ',\n",
       " 'reward/VB',\n",
       " 'meet/VBP',\n",
       " 'exceed/VBP',\n",
       " 'spent/VBD',\n",
       " 'shore/VB',\n",
       " 'totaled/VBD',\n",
       " 'matters/VBZ',\n",
       " 'paying/VBG',\n",
       " 'doing/VBG',\n",
       " 'gaining/VBG',\n",
       " 'recorded/VBD',\n",
       " 'According/VBG',\n",
       " 'bowed/VBD',\n",
       " 'saying/VBG',\n",
       " 'justify/VB',\n",
       " 'leaves/VBZ',\n",
       " 'proposed/VBN',\n",
       " 'acquire/VB',\n",
       " 'says/VBZ',\n",
       " 'values/VBZ',\n",
       " 'suffer/VB',\n",
       " 'related/VBN',\n",
       " 'improved/VBN',\n",
       " 'did/VBD',\n",
       " 'come/VB',\n",
       " 'evaluated/VBD',\n",
       " 'raising/VBG',\n",
       " 'seemed/VBD',\n",
       " 'got/VBD',\n",
       " 'take/VB',\n",
       " 'added/VBD',\n",
       " 'noted/VBD',\n",
       " 'worried/VBN',\n",
       " 'owns/VBZ',\n",
       " 'emerges/VBZ',\n",
       " 'attracts/VBZ',\n",
       " 'withdraw/VB',\n",
       " 'speed/VB',\n",
       " 'proposed/VBD',\n",
       " 'asserted/VBD',\n",
       " 'cluttered/VBN',\n",
       " 'turned/VBD',\n",
       " 'seeking/VBG',\n",
       " 'refile/VB',\n",
       " 'hopes/VBZ',\n",
       " 'expedited/VBN',\n",
       " 'closed/VBD',\n",
       " 'operating/VBG',\n",
       " 'succeed/VBP',\n",
       " 'retired/VBN',\n",
       " 'ordered/VBN',\n",
       " 'refund/VB',\n",
       " 'collected/VBN',\n",
       " 'required/VBN',\n",
       " 'ordered/VBD',\n",
       " 'received/VBN',\n",
       " 'moved/VBN',\n",
       " 'begin/VB',\n",
       " 'entertain/VB',\n",
       " 'block/VB',\n",
       " 'appealing/VBG',\n",
       " 'underlying/VBG',\n",
       " 'considering/VBG',\n",
       " 'determined/VBN',\n",
       " 'made/VBN',\n",
       " 'force/VB',\n",
       " 'slash/VB',\n",
       " 'tracking/VBG',\n",
       " 'changed/VBN',\n",
       " 'completed/VBN',\n",
       " 'disputed/VBN',\n",
       " 'pay/VB',\n",
       " 'upheld/VBD',\n",
       " 'found/VBD',\n",
       " 'audit/VB',\n",
       " 'collecting/VBG',\n",
       " 'ruled/VBD',\n",
       " 'refunded/VBN',\n",
       " 'set/VBD',\n",
       " 'faces/VBZ',\n",
       " 'estimated/VBN',\n",
       " 'hope/VBP',\n",
       " 'set/VB',\n",
       " 'involving/VBG',\n",
       " 'rule/VB',\n",
       " 'setting/VBG',\n",
       " 'compared/VBN',\n",
       " 'inched/VBD',\n",
       " 'benefited/VBD',\n",
       " 'arising/VBG',\n",
       " 'doubled/VBD',\n",
       " 'opened/VBD',\n",
       " 'manufacture/VB',\n",
       " 'located/VBN',\n",
       " 'help/VB',\n",
       " 'meet/VB',\n",
       " 'diversifying/VBG',\n",
       " 'produce/VB',\n",
       " 'depend/VB',\n",
       " 'tied/VBD',\n",
       " 'filed/VBN',\n",
       " 'pending/VBG',\n",
       " 'disclosed/VBD',\n",
       " 'providing/VBG',\n",
       " 'heads/VBZ',\n",
       " 'scrapped/VBN',\n",
       " 'working/VBG',\n",
       " 'anticipated/VBN',\n",
       " 'attached/VBD',\n",
       " 'want/VB',\n",
       " 'fund/VB',\n",
       " 'include/VB',\n",
       " 'anticipates/VBZ',\n",
       " 'needing/VBG',\n",
       " 'beginning/VBG',\n",
       " 'called/VBD',\n",
       " 'caused/VBD',\n",
       " 'jump/VB',\n",
       " 'close/VB',\n",
       " 'link/VB',\n",
       " 'complicate/VB',\n",
       " 'believe/VBP',\n",
       " 'do/VB',\n",
       " 'do/VBP',\n",
       " 'include/VBP',\n",
       " 'describe/VBP',\n",
       " 'being/VBG',\n",
       " 'require/VB',\n",
       " 'contain/VB',\n",
       " 'face/VB',\n",
       " 'roll/VB',\n",
       " 'compete/VB',\n",
       " 'believes/VBZ',\n",
       " 'priced/VBN',\n",
       " 'receive/VB',\n",
       " 'own/VBP',\n",
       " 'occur/VB',\n",
       " 'set/VBN',\n",
       " 'leave/VB',\n",
       " 'decide/VB',\n",
       " 'applied/VBN',\n",
       " 'trade/VB',\n",
       " 'calculate/VBP',\n",
       " 'transferring/VBG',\n",
       " 'favored/VBD',\n",
       " 'report/VB',\n",
       " 'posted/VBD',\n",
       " 'existed/VBN',\n",
       " 'incurred/VBN',\n",
       " 'reached/VBN',\n",
       " 'work/VB',\n",
       " 'Regarded/VBN',\n",
       " 'paid/VBN',\n",
       " 'includes/VBZ',\n",
       " 'came/VBD',\n",
       " 'continue/VB',\n",
       " 'succeed/VB',\n",
       " 'claiming/VBG',\n",
       " 'removed/VBD',\n",
       " 'watching/VBG',\n",
       " 'failing/VBG',\n",
       " 'honor/VB',\n",
       " 'improve/VB',\n",
       " 'placed/VBD',\n",
       " 'varying/VBG',\n",
       " 'growing/VBG',\n",
       " 'harms/VBZ',\n",
       " 'trading/VBG',\n",
       " 'offending/VBG',\n",
       " 'hurting/VBG',\n",
       " 'discouraging/VBG',\n",
       " 'deterring/VBG',\n",
       " 'investing/VBG',\n",
       " 'marketing/VBG',\n",
       " 'lauded/VBD',\n",
       " 'creating/VBG',\n",
       " 'trained/VBN',\n",
       " 'pursue/VB',\n",
       " 'instituted/VBN',\n",
       " 'aid/VB',\n",
       " 'initialing/VBG',\n",
       " 'amending/VBG',\n",
       " 'introducing/VBG',\n",
       " 'protect/VB',\n",
       " 'compel/VB',\n",
       " 'showing/VBG',\n",
       " 'vowed/VBN',\n",
       " 'enact/VB',\n",
       " 'apply/VB',\n",
       " 'deemed/VBN',\n",
       " 'pose/VB',\n",
       " 'specializing/VBG',\n",
       " 'combined/VBN',\n",
       " 'protecting/VBG',\n",
       " 'prompted/VBD',\n",
       " 'tells/VBZ',\n",
       " 'removed/VBN',\n",
       " 'craft/VB',\n",
       " 'concerned/VBN',\n",
       " 'continuing/VBG',\n",
       " 'complained/VBN',\n",
       " 'requires/VBZ',\n",
       " 'deemed/VBD',\n",
       " 'merit/VB',\n",
       " 'accelerated/VBN',\n",
       " 'ask/VB',\n",
       " 'halve/VB',\n",
       " 'developing/VBG',\n",
       " 'believed/VBN',\n",
       " 'called/VBN',\n",
       " 'aspires/VBZ',\n",
       " 'reach/VB',\n",
       " 'met/VBD',\n",
       " 'feels/VBZ',\n",
       " 'solved/VBN',\n",
       " 'wants/VBZ',\n",
       " 'forgiven/VBN',\n",
       " 'stand/VBP',\n",
       " 'CHANGED/VBD',\n",
       " 'launched/VBN',\n",
       " 'use/VB',\n",
       " 'stored/VBD',\n",
       " 'built/VBN',\n",
       " 'triggered/VBD',\n",
       " 'store/VB',\n",
       " 'developed/VBD',\n",
       " 'became/VBD',\n",
       " 'adapted/VBD',\n",
       " 'allow/VBP',\n",
       " 'share/VB',\n",
       " 'offer/VB',\n",
       " 'entered/VBD',\n",
       " 'total/VBP',\n",
       " 'acquired/VBD',\n",
       " 'sells/VBZ',\n",
       " 'preferred/VBN',\n",
       " 'gives/VBZ',\n",
       " 'raised/VBN',\n",
       " 'scheduled/VBN',\n",
       " 'brought/VBN',\n",
       " 'operate/VBP',\n",
       " 'started/VBD',\n",
       " 'increased/VBN',\n",
       " 'reaches/VBZ',\n",
       " 'start/VB',\n",
       " 'producing/VBG',\n",
       " 'developed/VBN',\n",
       " 'Following/VBG',\n",
       " 'led/VBN',\n",
       " 'divest/VB',\n",
       " 'approved/VBN',\n",
       " 'produced/VBN',\n",
       " 'denied/VBN',\n",
       " 'requested/VBN',\n",
       " 'covered/VBN',\n",
       " 'grant/VB',\n",
       " 'watch/VB',\n",
       " 'assembled/VBN',\n",
       " 'stepping/VBG',\n",
       " 'turn/VB',\n",
       " 'direct/VB',\n",
       " 'reduce/VB',\n",
       " 'curb/VB',\n",
       " 'achieved/VBN',\n",
       " 'maintained/VBN',\n",
       " 'left/VBN',\n",
       " 'cut/VBD',\n",
       " 'wallowing/VBG',\n",
       " 'controlling/VBG',\n",
       " 'seek/VB',\n",
       " 'resume/VB',\n",
       " 'running/VBG',\n",
       " 'cut/VB',\n",
       " 'assisted/VBN',\n",
       " 'bought/VBD',\n",
       " 'totaling/VBG',\n",
       " 'placed/VBN',\n",
       " 'went/VBD',\n",
       " 'snapped/VBD',\n",
       " 'put/VBN',\n",
       " 'offering/VBG',\n",
       " 'linked/VBN',\n",
       " 'offered/VBD',\n",
       " 'offer/VBP',\n",
       " 'designed/VBN',\n",
       " 'eliminate/VB',\n",
       " 'decline/VBP',\n",
       " 'forces/VBZ',\n",
       " 'redeploy/VB',\n",
       " 'channel/VBP',\n",
       " 'reducing/VBG',\n",
       " 'addressing/VBG',\n",
       " 'boosted/VBN',\n",
       " 'buying/VBG',\n",
       " 'issued/VBN',\n",
       " 'expanding/VBG',\n",
       " 'agreed/VBD',\n",
       " 'extend/VB',\n",
       " 'file/VB',\n",
       " 'giving/VBG',\n",
       " 'attempts/VBZ',\n",
       " 'incorporated/VBN',\n",
       " 'advertised/VBN',\n",
       " 'expire/VB',\n",
       " 'announced/VBN',\n",
       " 'marks/VBZ',\n",
       " 'reflects/VBZ',\n",
       " 'surged/VBD',\n",
       " 'follows/VBZ',\n",
       " 'Pick/VB',\n",
       " 'sweeping/VBG',\n",
       " 'traded/VBN',\n",
       " 'invest/VBP',\n",
       " 'registered/VBN',\n",
       " 'ranged/VBN',\n",
       " 'capped/VBN',\n",
       " 'kicked/VBN',\n",
       " 'quips/VBZ',\n",
       " 'managing/VBG',\n",
       " 'mirrors/VBZ',\n",
       " 'focused/VBN',\n",
       " 'issuing/VBG',\n",
       " 'fixed/VBN',\n",
       " 'trade/VBP',\n",
       " 'brings/VBZ',\n",
       " 'listed/VBN',\n",
       " 'account/VBP',\n",
       " 'stake/VB',\n",
       " 'runs/VBZ',\n",
       " 'turned/VBN',\n",
       " 'scrambled/VBN',\n",
       " 'find/VB',\n",
       " 'find/VBP',\n",
       " 'sell/VB',\n",
       " 'stretching/VBG',\n",
       " 'urge/VBP',\n",
       " 'diversify/VB',\n",
       " 'hold/VB',\n",
       " 'emerging/VBG',\n",
       " 'outpaced/VBN',\n",
       " 'get/VB',\n",
       " 'burned/VBN',\n",
       " 'whipsaw/VB',\n",
       " 'tend/VBP',\n",
       " 'swing/VB',\n",
       " 'plunged/VBD',\n",
       " 'clobbered/VBN',\n",
       " 'climbed/VBN',\n",
       " 'hold/VBP',\n",
       " 'closed/VBN',\n",
       " 'skyrocketed/VBN',\n",
       " 'surged/VBN',\n",
       " 'targeted/VBN',\n",
       " 'tied/VBN',\n",
       " 'invested/VBN',\n",
       " 'jumped/VBN',\n",
       " \"'m/VBP\",\n",
       " 'alarmed/VBN',\n",
       " 'see/VB',\n",
       " 'fattened/VBN',\n",
       " 'reflect/VBP',\n",
       " 'suggests/VBZ',\n",
       " 'cast/VBN',\n",
       " 'buy/VB',\n",
       " 'represent/VBP',\n",
       " 'insist/VBP',\n",
       " 'jumping/VBG',\n",
       " 'come/VBP',\n",
       " 'owed/VBD',\n",
       " 'repaid/VBN',\n",
       " 'clear/VB',\n",
       " 'say/VB',\n",
       " 'happen/VB',\n",
       " 'permitted/VBN',\n",
       " 'open/VB',\n",
       " 'crippled/VBN',\n",
       " 'settle/VB',\n",
       " 'lent/VBN',\n",
       " 'seized/VBD',\n",
       " 'amended/VBN',\n",
       " 'belongs/VBZ',\n",
       " 'settled/VBN',\n",
       " 'stressed/VBD',\n",
       " 'satisfying/VBG',\n",
       " 'settle/VBP',\n",
       " 'leveling/VBG',\n",
       " 'manufactured/VBN',\n",
       " 'failed/VBD',\n",
       " 'rise/VB',\n",
       " 'indicated/VBD',\n",
       " 'purchasing/VBG',\n",
       " 'booked/VBD',\n",
       " 'fallen/VBN',\n",
       " 'ran/VBD',\n",
       " 'adjusted/VBN',\n",
       " 'remove/VB',\n",
       " 'taper/VB',\n",
       " 'failed/VBN',\n",
       " 'revive/VB',\n",
       " 'pick/VB',\n",
       " 'asked/VBD',\n",
       " 'draw/VBP',\n",
       " 'predicting/VBG',\n",
       " 'slip/VB',\n",
       " 'cite/VBP',\n",
       " 'provide/VBP',\n",
       " 'watched/VBN',\n",
       " 'provoke/VB',\n",
       " 'lead/VB',\n",
       " 'conforms/VBZ',\n",
       " 'eases/VBZ',\n",
       " 'leading/VBG',\n",
       " 'intended/VBN',\n",
       " 'last/VB',\n",
       " 'climbing/VBG',\n",
       " 'estimated/VBD',\n",
       " 'helped/VBN',\n",
       " 'Excluding/VBG',\n",
       " 'declined/VBD',\n",
       " 'accounts/VBZ',\n",
       " 'predicted/VBD',\n",
       " 'boost/VB',\n",
       " 'adjusting/VBG',\n",
       " 'change/VB',\n",
       " 'contrast/VBP',\n",
       " 'issued/VBD',\n",
       " 'awarded/VBN',\n",
       " 'counts/VBZ',\n",
       " 'spent/VBN',\n",
       " 'slowing/VBG',\n",
       " 'signaling/VBG',\n",
       " 'purchased/VBD',\n",
       " 'delivering/VBG',\n",
       " 'consider/VBP',\n",
       " 'abating/VBG',\n",
       " 'handle/VB',\n",
       " 'lengthen/VBP',\n",
       " 'provided/VBN',\n",
       " 'gauges/VBZ',\n",
       " 'reporting/VBG',\n",
       " 'polled/VBD',\n",
       " 'import/VBP',\n",
       " 'imported/VBD',\n",
       " 'acknowledging/VBG',\n",
       " 'suspect/VB',\n",
       " 'going/VBG',\n",
       " 'numbered/VBD',\n",
       " 'included/VBD',\n",
       " 'put/VB',\n",
       " 'blamed/VBD',\n",
       " 'coupled/VBN',\n",
       " 'contributed/VBD',\n",
       " 'Judging/VBG',\n",
       " 'drink/VBP',\n",
       " 'whistle/VBP',\n",
       " 'read/VBP',\n",
       " 'talk/VBP',\n",
       " 'worry/VBP',\n",
       " 'suffer/VBP',\n",
       " 'broken/VBN',\n",
       " 'recognizing/VBG',\n",
       " 'refreshing/VBG',\n",
       " 'read/VB',\n",
       " 'belong/VB',\n",
       " 'perpetuate/VBP',\n",
       " 'carries/VBZ',\n",
       " 'think/VBP',\n",
       " 'rooted/VBN',\n",
       " 'sets/VBZ',\n",
       " 'mark/VBP',\n",
       " 'meets/VBZ',\n",
       " 'offers/VBZ',\n",
       " 'wears/VBZ',\n",
       " 'seems/VBZ',\n",
       " 'published/VBD',\n",
       " 'dominating/VBG',\n",
       " 'written/VBN',\n",
       " 'carry/VBP',\n",
       " 'call/VB',\n",
       " 'describes/VBZ',\n",
       " 'named/VBD',\n",
       " 'played/VBN',\n",
       " 'return/VBP',\n",
       " 'expands/VBZ',\n",
       " 'depending/VBG',\n",
       " 'welcomed/VBN',\n",
       " 'sidestep/VBP',\n",
       " 'abide/VB',\n",
       " 'wear/VB',\n",
       " 'rationed/VBN',\n",
       " 'fare/VBP',\n",
       " 'stand/VB',\n",
       " 'decide/VBP',\n",
       " 'run/VBP',\n",
       " 'hosted/VBD',\n",
       " 'invades/VBZ',\n",
       " 'assigned/VBN',\n",
       " 'run/VBN',\n",
       " 'talk/VB',\n",
       " 'letting/VBG',\n",
       " 'frustrating/VBG',\n",
       " 'invent/VB',\n",
       " 'fired/VBD',\n",
       " 'committed/VBD',\n",
       " 'learned/VBD',\n",
       " 'becoming/VBG',\n",
       " 'entering/VBG',\n",
       " 'bans/VBZ',\n",
       " 'launched/VBD',\n",
       " 'urged/VBD',\n",
       " 'ban/VB',\n",
       " 'visiting/VBG',\n",
       " 'advertising/VBG',\n",
       " 'opened/VBN',\n",
       " 'restricts/VBZ',\n",
       " 'designated/VBN',\n",
       " 'indicates/VBZ',\n",
       " 'carried/VBN',\n",
       " 'feel/VBP',\n",
       " 'surveyed/VBN',\n",
       " 'espouse/VBP',\n",
       " 'identified/VBD',\n",
       " 'endorsed/VBD',\n",
       " 'build/VB',\n",
       " 'draw/VB',\n",
       " 'balked/VBD',\n",
       " 'undertaking/VBG',\n",
       " 'asking/VBG',\n",
       " 'back/VB',\n",
       " 'applied/VBD',\n",
       " 'renewed/VBD',\n",
       " 'win/VB',\n",
       " 'name/VB',\n",
       " 'confirmed/VBN',\n",
       " 'tested/VBN',\n",
       " 'had/VBN',\n",
       " 'compensate/VB',\n",
       " 'establishing/VBG',\n",
       " 'strapped/VBN',\n",
       " 'terminated/VBD',\n",
       " 'twinned/VBN',\n",
       " 'ending/VBG',\n",
       " 'authorized/VBD',\n",
       " 'modify/VB',\n",
       " 'planned/VBN',\n",
       " 'operated/VBN',\n",
       " 'sold/VBD',\n",
       " 'painted/VBN',\n",
       " 'exchanging/VBG',\n",
       " 'entitles/VBZ',\n",
       " 'accrued/VBN',\n",
       " 'expire/VBP',\n",
       " 'swapped/VBN',\n",
       " 'elaborate/VB',\n",
       " 'laid/VBN',\n",
       " 'obsessed/VBN',\n",
       " 'refitting/VBG',\n",
       " 'shot/VBD',\n",
       " 'revived/VBN',\n",
       " 'contained/VBD',\n",
       " 'earns/VBZ',\n",
       " 'playing/VBG',\n",
       " 'prepared/VBN',\n",
       " 'thinking/VBG',\n",
       " 'feeling/VBG',\n",
       " 'takes/VBZ',\n",
       " 'romanticized/VBN',\n",
       " 'Filmed/VBN',\n",
       " 'seem/VBP',\n",
       " 'walk/VBP',\n",
       " 'noticing/VBG',\n",
       " 'jostle/VBP',\n",
       " 'hangs/VBZ',\n",
       " 'populated/VBN',\n",
       " 'selling/VBG',\n",
       " 'curled/VBD',\n",
       " 'spends/VBZ',\n",
       " 'sketching/VBG',\n",
       " 'returns/VBZ',\n",
       " 'condemned/VBN',\n",
       " 'calls/VBZ',\n",
       " 'competing/VBG',\n",
       " 'given/VBN',\n",
       " 'cure/VB',\n",
       " 'returning/VBG',\n",
       " 'murdered/VBN',\n",
       " 'turns/VBZ',\n",
       " 'alerts/VBZ',\n",
       " 'tuck/VB',\n",
       " 'load/VB',\n",
       " 'dreamed/VBD',\n",
       " 'lives/VBZ',\n",
       " 'resonate/VB',\n",
       " 'glamorize/VB',\n",
       " 'ends/VBZ',\n",
       " 'managed/VBN',\n",
       " 'viewed/VBN',\n",
       " 'seem/VB',\n",
       " 'executed/VBN',\n",
       " 'collaborated/VBD',\n",
       " 'needed/VBD',\n",
       " 'enabled/VBD',\n",
       " 'killed/VBD',\n",
       " 'brought/VBD',\n",
       " 'presented/VBN',\n",
       " 'deserve/VB',\n",
       " 'chopped/VBN',\n",
       " 'recommend/VB',\n",
       " 'taken/VBN',\n",
       " 'fighting/VBG',\n",
       " 'eating/VBG',\n",
       " 'drinking/VBG',\n",
       " 'celebrate/VB',\n",
       " 'mention/VBP',\n",
       " 'die/VB',\n",
       " 'seeing/VBG',\n",
       " 'discussing/VBG',\n",
       " 'worked/VBN',\n",
       " 'build/VBP',\n",
       " 'accounting/VBG',\n",
       " 'speculated/VBN',\n",
       " 'goes/VBZ',\n",
       " 'hit/VB',\n",
       " 'getting/VBG',\n",
       " 'come/VBN',\n",
       " 'scattered/VBN',\n",
       " 'ushering/VBG',\n",
       " 'attack/VB',\n",
       " 'accelerated/VBD',\n",
       " 'needs/VBZ',\n",
       " 'means/VBZ',\n",
       " 'worry/VB',\n",
       " 'prompted/VBN',\n",
       " 'Take/VB',\n",
       " 'fills/VBZ',\n",
       " 'gets/VBZ',\n",
       " 'charges/VBZ',\n",
       " 'hid/VBD',\n",
       " 'paid/VBD',\n",
       " 'convicted/VBN',\n",
       " 'wait/VB',\n",
       " 'caught/VBN',\n",
       " 'prosecute/VB',\n",
       " 'exist/VB',\n",
       " 'Stung/VBN',\n",
       " 'unleashed/VBD',\n",
       " 'shows/VBZ',\n",
       " 'Compare/VB',\n",
       " 'banning/VBG',\n",
       " 'opposed/VBN',\n",
       " 'claims/VBZ',\n",
       " 'choose/VB',\n",
       " 'telling/VBG',\n",
       " 'fail/VB',\n",
       " 'insists/VBZ',\n",
       " 'admitted/VBD',\n",
       " 'refused/VBN',\n",
       " 'blamed/VBN',\n",
       " 'know/VB',\n",
       " 'argues/VBZ',\n",
       " 'knows/VBZ',\n",
       " 'know/VBP',\n",
       " 'agree/VBP',\n",
       " 'superimposed/VBN',\n",
       " 'talks/VBZ',\n",
       " 'nurtured/VBN',\n",
       " 'dissolves/VBZ',\n",
       " 'give/VB',\n",
       " 'wanted/VBD',\n",
       " 'denies/VBZ',\n",
       " 'changed/VBD',\n",
       " 'transforming/VBG',\n",
       " 'launch/VB',\n",
       " 'created/VBN',\n",
       " 'shake/VB',\n",
       " 'attracted/VBN',\n",
       " 'featured/VBD',\n",
       " 'suggested/VBD',\n",
       " 'recalling/VBG',\n",
       " \"C'mon/VB\",\n",
       " 'interjects/VBZ',\n",
       " 'introduced/VBD',\n",
       " 'interrogated/VBN',\n",
       " 'accused/VBN',\n",
       " 'tried/VBD',\n",
       " 'pass/VB',\n",
       " 'introduced/VBN',\n",
       " 'grown/VBN',\n",
       " 'gotten/VBN',\n",
       " 'devote/VB',\n",
       " 'lasted/VBD',\n",
       " 'carrying/VBG',\n",
       " 'featuring/VBG',\n",
       " 'aired/VBD',\n",
       " 'Remember/VB',\n",
       " 'Consider/VB',\n",
       " 'rusted/VBN',\n",
       " 'swim/VBP',\n",
       " 'purrs/VBZ',\n",
       " 'suing/VBG',\n",
       " 'grows/VBZ',\n",
       " 'involved/VBN',\n",
       " 'cry/VBP',\n",
       " 'responded/VBN',\n",
       " 'lying/VBG',\n",
       " 'asks/VBZ',\n",
       " 'cleaned/VBN',\n",
       " 'shrinks/VBZ',\n",
       " 'dumped/VBN',\n",
       " 'devastating/VBG',\n",
       " 'raised/VBD',\n",
       " 'building/VBG',\n",
       " 'appeared/VBD',\n",
       " 'want/VBP',\n",
       " 'quoted/VBN',\n",
       " 'asked/VBN',\n",
       " 'propelling/VBG',\n",
       " 'suggest/VBP',\n",
       " 'pursued/VBN',\n",
       " 'sparking/VBG',\n",
       " 'posing/VBG',\n",
       " 'knitted/VBN',\n",
       " 'tripled/VBN',\n",
       " 'following/VBG',\n",
       " 'pumping/VBG',\n",
       " 'forcing/VBG',\n",
       " 'known/VBN',\n",
       " 'contributing/VBG',\n",
       " 'provide/VB',\n",
       " 'spur/VB',\n",
       " 'make/VBP',\n",
       " 'falling/VBG',\n",
       " 'encourages/VBZ',\n",
       " 'resists/VBZ',\n",
       " 'coming/VBG',\n",
       " 'comes/VBZ',\n",
       " 'swelling/VBG',\n",
       " 'concentrated/VBD',\n",
       " 'spurred/VBN',\n",
       " 'move/VB',\n",
       " 'accommodate/VB',\n",
       " 'offend/VB',\n",
       " 'parallel/VB',\n",
       " 'assemble/VB',\n",
       " 'export/VB',\n",
       " 'pull/VB',\n",
       " 'consider/VB',\n",
       " 'discuss/VB',\n",
       " 'reasserts/VBZ',\n",
       " 'taking/VBG',\n",
       " 'play/VB',\n",
       " 'designing/VBG',\n",
       " 'outstrips/VBZ',\n",
       " 'outranks/VBZ',\n",
       " 'remains/VBZ',\n",
       " 'voice/VBP',\n",
       " 'convey/VBP',\n",
       " 'approach/VBP',\n",
       " 'step/VB',\n",
       " 'ease/VB',\n",
       " 'regard/VBP',\n",
       " 'try/VB',\n",
       " 'slow/VB',\n",
       " 'monopolize/VB',\n",
       " 'sew/VB',\n",
       " 'believe/VB',\n",
       " 'spotted/VBD',\n",
       " 'seen/VBN',\n",
       " 'surrendered/VBD',\n",
       " 'passed/VBN',\n",
       " 'matched/VBD',\n",
       " 'Confronted/VBN',\n",
       " 'answers/VBZ',\n",
       " 'gone/VBN',\n",
       " 'display/VB',\n",
       " 'underline/VB',\n",
       " 'fired/VBN',\n",
       " 'prosecuted/VBN',\n",
       " 'breach/VB',\n",
       " 'pleaded/VBD',\n",
       " 'won/VBD',\n",
       " 'inspired/VBD',\n",
       " 'teach/VB',\n",
       " 'left/VBD',\n",
       " 'defended/VBD',\n",
       " 'treated/VBN',\n",
       " 'casts/VBZ',\n",
       " 'enhanced/VBN',\n",
       " 'cheat/VB',\n",
       " 'violated/VBD',\n",
       " 'enforce/VB',\n",
       " 'alleged/VBD',\n",
       " 'bolster/VB',\n",
       " 'depended/VBD',\n",
       " 'beat/VB',\n",
       " 'released/VBN',\n",
       " 'concluded/VBD',\n",
       " 'inflated/VBN',\n",
       " 'teach/VBP',\n",
       " 'surfaced/VBN',\n",
       " 'suspects/VBZ',\n",
       " 'revising/VBG',\n",
       " 'booming/VBG',\n",
       " 'telegraph/VBP',\n",
       " 'concentrate/VB',\n",
       " 'mean/VBP',\n",
       " 'mean/VB',\n",
       " 'posted/VBN',\n",
       " 'posts/VBZ',\n",
       " 'use/VBP',\n",
       " 'stressing/VBG',\n",
       " 'rates/VBZ',\n",
       " ...]"
      ]
     },
     "execution_count": 91,
     "metadata": {},
     "output_type": "execute_result"
    }
   ],
   "source": [
    " [word + \"/\" + tag for (word, tag) in word_tag_fd if tag.startswith('V')]\n"
   ]
  },
  {
   "cell_type": "markdown",
   "metadata": {},
   "source": [
    "Suppose we’re studying the word often and want to see how it is used in text. We could\n",
    "ask to see the words that follow often:"
   ]
  },
  {
   "cell_type": "code",
   "execution_count": 93,
   "metadata": {},
   "outputs": [],
   "source": [
    " brown_lrnd_tagged = brown.tagged_words(categories='learned')"
   ]
  },
  {
   "cell_type": "code",
   "execution_count": 95,
   "metadata": {},
   "outputs": [],
   "source": [
    "tags = [b[1] for (a, b) in nltk.bigrams(brown_lrnd_tagged) if a[0] == 'often']"
   ]
  },
  {
   "cell_type": "code",
   "execution_count": 96,
   "metadata": {},
   "outputs": [],
   "source": [
    "fd= nltk.FreqDist(tags)"
   ]
  },
  {
   "cell_type": "code",
   "execution_count": 97,
   "metadata": {},
   "outputs": [
    {
     "data": {
      "text/plain": [
       "FreqDist({'VBN': 15, 'VB': 10, 'VBD': 8, 'JJ': 5, 'IN': 4, 'QL': 3, ',': 3, 'CS': 3, 'RB': 3, 'AP': 1, ...})"
      ]
     },
     "execution_count": 97,
     "metadata": {},
     "output_type": "execute_result"
    }
   ],
   "source": [
    "fd"
   ]
  },
  {
   "cell_type": "code",
   "execution_count": 98,
   "metadata": {},
   "outputs": [
    {
     "name": "stdout",
     "output_type": "stream",
     "text": [
      "VBN  VB VBD  JJ  IN  QL   ,  CS  RB  AP VBG  RP VBZ QLP BEN WRB   .  TO  HV \n",
      " 15  10   8   5   4   3   3   3   3   1   1   1   1   1   1   1   1   1   1 \n"
     ]
    }
   ],
   "source": [
    "fd.tabulate()"
   ]
  },
  {
   "cell_type": "markdown",
   "metadata": {},
   "source": [
    "Notice that the most high-frequency parts of speech following often are verbs. Nouns never apper in this position"
   ]
  },
  {
   "cell_type": "markdown",
   "metadata": {},
   "source": [
    "### Mapping Words to Properties Using Python DIctionaries"
   ]
  },
  {
   "cell_type": "markdown",
   "metadata": {},
   "source": [
    "Once we start doing part-of-speech tagging, we will be creating programs that assign a tag to a word,the tag which is most likely in a given context. <br>\n",
    "We can think og this process as mappng. The most natural way to store mapping in Python uses the so called **dictonary**"
   ]
  },
  {
   "cell_type": "markdown",
   "metadata": {},
   "source": [
    "** Creating dict **"
   ]
  },
  {
   "cell_type": "code",
   "execution_count": 2,
   "metadata": {},
   "outputs": [],
   "source": [
    "pos = {}"
   ]
  },
  {
   "cell_type": "code",
   "execution_count": 5,
   "metadata": {},
   "outputs": [
    {
     "data": {
      "text/plain": [
       "{'colorless': 'ADJ'}"
      ]
     },
     "execution_count": 5,
     "metadata": {},
     "output_type": "execute_result"
    }
   ],
   "source": [
    "pos['colorless'] = 'ADJ'\n",
    "pos"
   ]
  },
  {
   "cell_type": "code",
   "execution_count": 6,
   "metadata": {},
   "outputs": [
    {
     "data": {
      "text/plain": [
       "{'colorless': 'ADJ', 'ideas': 'N', 'sleep': 'V'}"
      ]
     },
     "execution_count": 6,
     "metadata": {},
     "output_type": "execute_result"
    }
   ],
   "source": [
    "pos['ideas']='N'\n",
    "pos['sleep']='V'\n",
    "pos"
   ]
  },
  {
   "cell_type": "code",
   "execution_count": 7,
   "metadata": {},
   "outputs": [
    {
     "data": {
      "text/plain": [
       "'N'"
      ]
     },
     "execution_count": 7,
     "metadata": {},
     "output_type": "execute_result"
    }
   ],
   "source": [
    "pos['ideas']"
   ]
  },
  {
   "cell_type": "code",
   "execution_count": 8,
   "metadata": {},
   "outputs": [
    {
     "data": {
      "text/plain": [
       "['colorless', 'ideas', 'sleep']"
      ]
     },
     "execution_count": 8,
     "metadata": {},
     "output_type": "execute_result"
    }
   ],
   "source": [
    "list(pos)"
   ]
  },
  {
   "cell_type": "code",
   "execution_count": 9,
   "metadata": {},
   "outputs": [
    {
     "data": {
      "text/plain": [
       "['colorless', 'ideas', 'sleep']"
      ]
     },
     "execution_count": 9,
     "metadata": {},
     "output_type": "execute_result"
    }
   ],
   "source": [
    "sorted(pos)"
   ]
  },
  {
   "cell_type": "code",
   "execution_count": 12,
   "metadata": {},
   "outputs": [
    {
     "data": {
      "text/plain": [
       "['colorless', 'ideas']"
      ]
     },
     "execution_count": 12,
     "metadata": {},
     "output_type": "execute_result"
    }
   ],
   "source": [
    "[w for w in pos if w.endswith('s')]"
   ]
  },
  {
   "cell_type": "code",
   "execution_count": 14,
   "metadata": {},
   "outputs": [
    {
     "name": "stdout",
     "output_type": "stream",
     "text": [
      "colorless: ADJ\n",
      "ideas: N\n",
      "sleep: V\n"
     ]
    }
   ],
   "source": [
    "for word in sorted(pos):\n",
    "    print(word + ':',pos[word])"
   ]
  },
  {
   "cell_type": "markdown",
   "metadata": {},
   "source": [
    "Finally, the dictionary methods keys(), values(), and items() allow us to acess the keys, values and key-value pairs as separate lists"
   ]
  },
  {
   "cell_type": "code",
   "execution_count": 21,
   "metadata": {},
   "outputs": [
    {
     "data": {
      "text/plain": [
       "dict_keys(['colorless', 'ideas', 'sleep'])"
      ]
     },
     "execution_count": 21,
     "metadata": {},
     "output_type": "execute_result"
    }
   ],
   "source": [
    "pos.keys()"
   ]
  },
  {
   "cell_type": "code",
   "execution_count": 20,
   "metadata": {},
   "outputs": [
    {
     "name": "stdout",
     "output_type": "stream",
     "text": [
      "colorless\n",
      "ideas\n",
      "sleep\n"
     ]
    }
   ],
   "source": [
    "for key in pos.keys():\n",
    "    print(key)"
   ]
  },
  {
   "cell_type": "code",
   "execution_count": 23,
   "metadata": {},
   "outputs": [
    {
     "data": {
      "text/plain": [
       "dict_values(['ADJ', 'N', 'V'])"
      ]
     },
     "execution_count": 23,
     "metadata": {},
     "output_type": "execute_result"
    }
   ],
   "source": [
    "pos.values()"
   ]
  },
  {
   "cell_type": "code",
   "execution_count": 22,
   "metadata": {},
   "outputs": [
    {
     "name": "stdout",
     "output_type": "stream",
     "text": [
      "ADJ\n",
      "N\n",
      "V\n"
     ]
    }
   ],
   "source": [
    "for value in pos.values():\n",
    "    print(value)"
   ]
  },
  {
   "cell_type": "code",
   "execution_count": 24,
   "metadata": {},
   "outputs": [
    {
     "data": {
      "text/plain": [
       "dict_items([('colorless', 'ADJ'), ('ideas', 'N'), ('sleep', 'V')])"
      ]
     },
     "execution_count": 24,
     "metadata": {},
     "output_type": "execute_result"
    }
   ],
   "source": [
    "pos.items()"
   ]
  },
  {
   "cell_type": "code",
   "execution_count": 25,
   "metadata": {},
   "outputs": [
    {
     "name": "stdout",
     "output_type": "stream",
     "text": [
      "colorless: ADJ\n",
      "ideas: N\n",
      "sleep: V\n"
     ]
    }
   ],
   "source": [
    "for key, value in sorted(pos.items()):\n",
    "    print(key+':',value)"
   ]
  },
  {
   "cell_type": "markdown",
   "metadata": {},
   "source": [
    "There can be only one entry in the dict for 'sleep'. However, there is a way of storing multiple values in that entry: we use a list value, e.g., pos['sleep'] = ['N','V']"
   ]
  },
  {
   "cell_type": "markdown",
   "metadata": {},
   "source": [
    "**Defining Dictionaries**"
   ]
  },
  {
   "cell_type": "code",
   "execution_count": 27,
   "metadata": {},
   "outputs": [
    {
     "data": {
      "text/plain": [
       "{'colorless': 'ADJ', 'ideas': 'N', 'sleep': 'V', 'furiously': 'ADV'}"
      ]
     },
     "execution_count": 27,
     "metadata": {},
     "output_type": "execute_result"
    }
   ],
   "source": [
    "pos = {'colorless': 'ADJ', 'ideas': 'N', 'sleep': 'V', 'furiously':'ADV'}\n",
    "pos = dict(colorless='ADJ', ideas='N', sleep='V', furiously='ADV')\n",
    "pos"
   ]
  },
  {
   "cell_type": "markdown",
   "metadata": {},
   "source": [
    "**Default Dictionaries** <br>\n",
    "It's often useful if a dictionary can automatically crate an entry for this new key and give it a default value, without an error messenger"
   ]
  },
  {
   "cell_type": "code",
   "execution_count": 28,
   "metadata": {},
   "outputs": [
    {
     "data": {
      "text/plain": [
       "0"
      ]
     },
     "execution_count": 28,
     "metadata": {},
     "output_type": "execute_result"
    }
   ],
   "source": [
    "frequency = nltk.defaultdict(int)\n",
    "frequency['colorless'] = 4\n",
    "frequency['ideas']"
   ]
  },
  {
   "cell_type": "markdown",
   "metadata": {},
   "source": [
    "Or a lambda function!"
   ]
  },
  {
   "cell_type": "code",
   "execution_count": 29,
   "metadata": {},
   "outputs": [
    {
     "data": {
      "text/plain": [
       "'N'"
      ]
     },
     "execution_count": 29,
     "metadata": {},
     "output_type": "execute_result"
    }
   ],
   "source": [
    "pos =  nltk.defaultdict(lambda: 'N')\n",
    "pos['colorless'] ='ADJ'\n",
    "pos['blog']"
   ]
  },
  {
   "cell_type": "code",
   "execution_count": 30,
   "metadata": {},
   "outputs": [],
   "source": [
    "alice = nltk.corpus.gutenberg.words('carroll-alice.txt')"
   ]
  },
  {
   "cell_type": "code",
   "execution_count": 59,
   "metadata": {},
   "outputs": [],
   "source": [
    "vocab = nltk.FreqDist(alice)"
   ]
  },
  {
   "cell_type": "code",
   "execution_count": 71,
   "metadata": {},
   "outputs": [
    {
     "data": {
      "text/plain": [
       "FreqDist({',': 1993, \"'\": 1731, 'the': 1527, 'and': 802, '.': 764, 'to': 725, 'a': 615, 'I': 543, 'it': 527, 'she': 509, ...})"
      ]
     },
     "execution_count": 71,
     "metadata": {},
     "output_type": "execute_result"
    }
   ],
   "source": [
    "vocab"
   ]
  },
  {
   "cell_type": "code",
   "execution_count": 69,
   "metadata": {},
   "outputs": [
    {
     "data": {
      "image/png": "[encoded data removed]",
      "text/plain": [
       "<matplotlib.figure.Figure at 0x25b2de77080>"
      ]
     },
     "metadata": {
      "needs_background": "light"
     },
     "output_type": "display_data"
    }
   ],
   "source": [
    "vocab.plot()"
   ]
  },
  {
   "cell_type": "code",
   "execution_count": 75,
   "metadata": {},
   "outputs": [
    {
     "data": {
      "text/plain": [
       "','"
      ]
     },
     "execution_count": 75,
     "metadata": {},
     "output_type": "execute_result"
    }
   ],
   "source": [
    "vocab.most_common()[0][0]"
   ]
  },
  {
   "cell_type": "code",
   "execution_count": 77,
   "metadata": {},
   "outputs": [],
   "source": [
    "list_most = []\n",
    "for i in range(100):\n",
    "    list_most.append(vocab.most_common()[i][0])"
   ]
  },
  {
   "cell_type": "code",
   "execution_count": 79,
   "metadata": {},
   "outputs": [
    {
     "data": {
      "text/plain": [
       "[',', \"'\", 'the', 'and', '.', 'to', 'a', 'I', 'it', 'she']"
      ]
     },
     "execution_count": 79,
     "metadata": {},
     "output_type": "execute_result"
    }
   ],
   "source": [
    "list_most[:10]"
   ]
  },
  {
   "cell_type": "code",
   "execution_count": 61,
   "metadata": {},
   "outputs": [],
   "source": [
    "v100 = list(vocab)[:100]"
   ]
  },
  {
   "cell_type": "code",
   "execution_count": 82,
   "metadata": {},
   "outputs": [],
   "source": [
    " mapping = nltk.defaultdict(lambda: 'UNK')"
   ]
  },
  {
   "cell_type": "code",
   "execution_count": 86,
   "metadata": {},
   "outputs": [],
   "source": [
    "for v in list_most:\n",
    "    mapping[v]=v"
   ]
  },
  {
   "cell_type": "code",
   "execution_count": 87,
   "metadata": {},
   "outputs": [
    {
     "data": {
      "text/plain": [
       "['UNK',\n",
       " 'Alice',\n",
       " \"'\",\n",
       " 's',\n",
       " 'UNK',\n",
       " 'in',\n",
       " 'UNK',\n",
       " 'by',\n",
       " 'UNK',\n",
       " 'UNK',\n",
       " 'UNK',\n",
       " 'UNK',\n",
       " 'UNK',\n",
       " 'I',\n",
       " '.',\n",
       " 'UNK',\n",
       " 'the',\n",
       " 'UNK',\n",
       " '-',\n",
       " 'UNK',\n",
       " 'Alice',\n",
       " 'was',\n",
       " 'UNK',\n",
       " 'to',\n",
       " 'UNK',\n",
       " 'very',\n",
       " 'UNK',\n",
       " 'of',\n",
       " 'UNK',\n",
       " 'by',\n",
       " 'her',\n",
       " 'UNK',\n",
       " 'on',\n",
       " 'the',\n",
       " 'UNK',\n",
       " ',',\n",
       " 'and',\n",
       " 'of',\n",
       " 'UNK',\n",
       " 'UNK',\n",
       " 'to',\n",
       " 'do',\n",
       " ':',\n",
       " 'UNK',\n",
       " 'or',\n",
       " 'UNK',\n",
       " 'she',\n",
       " 'had',\n",
       " 'UNK',\n",
       " 'into',\n",
       " 'the',\n",
       " 'UNK',\n",
       " 'her',\n",
       " 'UNK',\n",
       " 'was',\n",
       " 'UNK',\n",
       " ',',\n",
       " 'but',\n",
       " 'it',\n",
       " 'had',\n",
       " 'no',\n",
       " 'UNK',\n",
       " 'or',\n",
       " 'UNK',\n",
       " 'in',\n",
       " 'it',\n",
       " ',',\n",
       " \"'\",\n",
       " 'and',\n",
       " 'what',\n",
       " 'is',\n",
       " 'the',\n",
       " 'UNK',\n",
       " 'of',\n",
       " 'a',\n",
       " 'UNK',\n",
       " \",'\",\n",
       " 'thought',\n",
       " 'Alice',\n",
       " \"'\",\n",
       " 'UNK',\n",
       " 'UNK',\n",
       " 'or',\n",
       " 'UNK',\n",
       " \"?'\",\n",
       " 'UNK',\n",
       " 'she',\n",
       " 'was',\n",
       " 'UNK',\n",
       " 'in',\n",
       " 'her',\n",
       " 'UNK',\n",
       " 'UNK',\n",
       " 'UNK',\n",
       " 'as',\n",
       " 'UNK',\n",
       " 'as',\n",
       " 'she',\n",
       " 'could',\n",
       " ',',\n",
       " 'for',\n",
       " 'the',\n",
       " 'UNK',\n",
       " 'UNK',\n",
       " 'UNK',\n",
       " 'her',\n",
       " 'UNK',\n",
       " 'very',\n",
       " 'UNK',\n",
       " 'and',\n",
       " 'UNK',\n",
       " 'UNK',\n",
       " 'UNK',\n",
       " 'the',\n",
       " 'UNK',\n",
       " 'of',\n",
       " 'UNK',\n",
       " 'a',\n",
       " 'UNK',\n",
       " '-',\n",
       " 'UNK',\n",
       " 'would',\n",
       " 'be',\n",
       " 'UNK',\n",
       " 'the',\n",
       " 'UNK',\n",
       " 'of',\n",
       " 'UNK',\n",
       " 'up',\n",
       " 'and',\n",
       " 'UNK',\n",
       " 'the',\n",
       " 'UNK',\n",
       " ',',\n",
       " 'when',\n",
       " 'UNK',\n",
       " 'a',\n",
       " 'UNK',\n",
       " 'UNK',\n",
       " 'with',\n",
       " 'UNK',\n",
       " 'UNK',\n",
       " 'UNK',\n",
       " 'UNK',\n",
       " 'by',\n",
       " 'her',\n",
       " '.',\n",
       " 'UNK',\n",
       " 'was',\n",
       " 'UNK',\n",
       " 'so',\n",
       " 'UNK',\n",
       " 'UNK',\n",
       " 'in',\n",
       " 'that',\n",
       " ';',\n",
       " 'UNK',\n",
       " 'did',\n",
       " 'Alice',\n",
       " 'UNK',\n",
       " 'it',\n",
       " 'so',\n",
       " 'UNK',\n",
       " 'much',\n",
       " 'out',\n",
       " 'of',\n",
       " 'the',\n",
       " 'way',\n",
       " 'to',\n",
       " 'UNK',\n",
       " 'the',\n",
       " 'UNK',\n",
       " 'say',\n",
       " 'to',\n",
       " 'UNK',\n",
       " ',',\n",
       " \"'\",\n",
       " 'UNK',\n",
       " 'UNK',\n",
       " '!',\n",
       " 'UNK',\n",
       " 'UNK',\n",
       " '!',\n",
       " 'I',\n",
       " 'UNK',\n",
       " 'be',\n",
       " 'UNK',\n",
       " \"!'\",\n",
       " 'UNK',\n",
       " 'when',\n",
       " 'she',\n",
       " 'thought',\n",
       " 'it',\n",
       " 'UNK',\n",
       " 'UNK',\n",
       " ',',\n",
       " 'it',\n",
       " 'UNK',\n",
       " 'to',\n",
       " 'her',\n",
       " 'that',\n",
       " 'she',\n",
       " 'UNK',\n",
       " 'to',\n",
       " 'have',\n",
       " 'UNK',\n",
       " 'at',\n",
       " 'this',\n",
       " ',',\n",
       " 'but',\n",
       " 'at',\n",
       " 'the',\n",
       " 'time',\n",
       " 'it',\n",
       " 'all',\n",
       " 'UNK',\n",
       " 'quite',\n",
       " 'UNK',\n",
       " 'UNK',\n",
       " 'but',\n",
       " 'when',\n",
       " 'the',\n",
       " 'UNK',\n",
       " 'UNK',\n",
       " 'UNK',\n",
       " 'UNK',\n",
       " 'UNK',\n",
       " 'UNK',\n",
       " 'UNK',\n",
       " 'UNK',\n",
       " 'UNK',\n",
       " '-',\n",
       " 'UNK',\n",
       " ',',\n",
       " 'and',\n",
       " 'UNK',\n",
       " 'at',\n",
       " 'it',\n",
       " ',',\n",
       " 'and',\n",
       " 'then',\n",
       " 'UNK',\n",
       " 'on',\n",
       " ',',\n",
       " 'Alice',\n",
       " 'UNK',\n",
       " 'to',\n",
       " 'her',\n",
       " 'UNK',\n",
       " ',',\n",
       " 'for',\n",
       " 'it',\n",
       " 'UNK',\n",
       " 'UNK',\n",
       " 'her',\n",
       " 'UNK',\n",
       " 'that',\n",
       " 'she',\n",
       " 'had',\n",
       " 'UNK',\n",
       " 'UNK',\n",
       " 'UNK',\n",
       " 'a',\n",
       " 'UNK',\n",
       " 'with',\n",
       " 'UNK',\n",
       " 'a',\n",
       " 'UNK',\n",
       " '-',\n",
       " 'UNK',\n",
       " ',',\n",
       " 'or',\n",
       " 'a',\n",
       " 'UNK',\n",
       " 'to',\n",
       " 'UNK',\n",
       " 'out',\n",
       " 'of',\n",
       " 'it',\n",
       " ',',\n",
       " 'and',\n",
       " 'UNK',\n",
       " 'with',\n",
       " 'UNK',\n",
       " ',',\n",
       " 'she',\n",
       " 'UNK',\n",
       " 'UNK',\n",
       " 'the',\n",
       " 'UNK',\n",
       " 'UNK',\n",
       " 'it',\n",
       " ',',\n",
       " 'and',\n",
       " 'UNK',\n",
       " 'was',\n",
       " 'UNK',\n",
       " 'in',\n",
       " 'time',\n",
       " 'to',\n",
       " 'see',\n",
       " 'it',\n",
       " 'UNK',\n",
       " 'down',\n",
       " 'a',\n",
       " 'UNK',\n",
       " 'UNK',\n",
       " '-',\n",
       " 'UNK',\n",
       " 'UNK',\n",
       " 'the',\n",
       " 'UNK',\n",
       " '.',\n",
       " 'UNK',\n",
       " 'UNK',\n",
       " 'UNK',\n",
       " 'down',\n",
       " 'went',\n",
       " 'Alice',\n",
       " 'UNK',\n",
       " 'it',\n",
       " ',',\n",
       " 'UNK',\n",
       " 'UNK',\n",
       " 'UNK',\n",
       " 'UNK',\n",
       " 'in',\n",
       " 'the',\n",
       " 'UNK',\n",
       " 'she',\n",
       " 'was',\n",
       " 'to',\n",
       " 'UNK',\n",
       " 'out',\n",
       " 'again',\n",
       " '.',\n",
       " 'The',\n",
       " 'UNK',\n",
       " '-',\n",
       " 'UNK',\n",
       " 'went',\n",
       " 'UNK',\n",
       " 'on',\n",
       " 'like',\n",
       " 'a',\n",
       " 'UNK',\n",
       " 'for',\n",
       " 'UNK',\n",
       " 'way',\n",
       " ',',\n",
       " 'and',\n",
       " 'then',\n",
       " 'UNK',\n",
       " 'UNK',\n",
       " 'down',\n",
       " ',',\n",
       " 'so',\n",
       " 'UNK',\n",
       " 'that',\n",
       " 'Alice',\n",
       " 'had',\n",
       " 'not',\n",
       " 'a',\n",
       " 'UNK',\n",
       " 'to',\n",
       " 'UNK',\n",
       " 'about',\n",
       " 'UNK',\n",
       " 'herself',\n",
       " 'UNK',\n",
       " 'she',\n",
       " 'UNK',\n",
       " 'herself',\n",
       " 'UNK',\n",
       " 'down',\n",
       " 'a',\n",
       " 'very',\n",
       " 'UNK',\n",
       " 'UNK',\n",
       " '.',\n",
       " 'UNK',\n",
       " 'the',\n",
       " 'UNK',\n",
       " 'was',\n",
       " 'very',\n",
       " 'UNK',\n",
       " ',',\n",
       " 'or',\n",
       " 'she',\n",
       " 'UNK',\n",
       " 'very',\n",
       " 'UNK',\n",
       " ',',\n",
       " 'for',\n",
       " 'she',\n",
       " 'had',\n",
       " 'UNK',\n",
       " 'of',\n",
       " 'time',\n",
       " 'as',\n",
       " 'she',\n",
       " 'went',\n",
       " 'down',\n",
       " 'to',\n",
       " 'UNK',\n",
       " 'about',\n",
       " 'her',\n",
       " 'and',\n",
       " 'to',\n",
       " 'UNK',\n",
       " 'what',\n",
       " 'was',\n",
       " 'UNK',\n",
       " 'to',\n",
       " 'UNK',\n",
       " 'UNK',\n",
       " '.',\n",
       " 'UNK',\n",
       " ',',\n",
       " 'she',\n",
       " 'UNK',\n",
       " 'to',\n",
       " 'UNK',\n",
       " 'down',\n",
       " 'and',\n",
       " 'UNK',\n",
       " 'out',\n",
       " 'what',\n",
       " 'she',\n",
       " 'was',\n",
       " 'UNK',\n",
       " 'to',\n",
       " ',',\n",
       " 'but',\n",
       " 'it',\n",
       " 'was',\n",
       " 'UNK',\n",
       " 'UNK',\n",
       " 'to',\n",
       " 'see',\n",
       " 'UNK',\n",
       " ';',\n",
       " 'then',\n",
       " 'she',\n",
       " 'UNK',\n",
       " 'at',\n",
       " 'the',\n",
       " 'UNK',\n",
       " 'of',\n",
       " 'the',\n",
       " 'UNK',\n",
       " ',',\n",
       " 'and',\n",
       " 'UNK',\n",
       " 'that',\n",
       " 'they',\n",
       " 'were',\n",
       " 'UNK',\n",
       " 'with',\n",
       " 'UNK',\n",
       " 'and',\n",
       " 'UNK',\n",
       " '-',\n",
       " 'UNK',\n",
       " ';',\n",
       " 'UNK',\n",
       " 'and',\n",
       " 'there',\n",
       " 'she',\n",
       " 'UNK',\n",
       " 'UNK',\n",
       " 'and',\n",
       " 'UNK',\n",
       " 'UNK',\n",
       " 'UNK',\n",
       " 'UNK',\n",
       " '.',\n",
       " 'UNK',\n",
       " 'UNK',\n",
       " 'down',\n",
       " 'a',\n",
       " 'UNK',\n",
       " 'UNK',\n",
       " 'one',\n",
       " 'of',\n",
       " 'the',\n",
       " 'UNK',\n",
       " 'as',\n",
       " 'she',\n",
       " 'UNK',\n",
       " ';',\n",
       " 'it',\n",
       " 'was',\n",
       " 'UNK',\n",
       " \"'\",\n",
       " 'UNK',\n",
       " 'UNK',\n",
       " 'UNK',\n",
       " 'but',\n",
       " 'to']"
      ]
     },
     "execution_count": 87,
     "metadata": {},
     "output_type": "execute_result"
    }
   ],
   "source": [
    "alice2 = [mapping[v] for v in alice]\n",
    "alice2[:500]"
   ]
  },
  {
   "cell_type": "markdown",
   "metadata": {},
   "source": [
    "** Incrementally Updating a Dict **"
   ]
  },
  {
   "cell_type": "code",
   "execution_count": 88,
   "metadata": {},
   "outputs": [],
   "source": [
    "counts =  nltk.defaultdict(int)\n",
    "from nltk.corpus import brown\n",
    "for (word,tag) in brown.tagged_words(categories='news'):\n",
    "    counts[tag] += 1"
   ]
  },
  {
   "cell_type": "code",
   "execution_count": 90,
   "metadata": {},
   "outputs": [
    {
     "data": {
      "text/plain": [
       "8893"
      ]
     },
     "execution_count": 90,
     "metadata": {},
     "output_type": "execute_result"
    }
   ],
   "source": [
    "counts['AT']"
   ]
  },
  {
   "cell_type": "code",
   "execution_count": 96,
   "metadata": {},
   "outputs": [
    {
     "data": {
      "text/plain": [
       "['AT',\n",
       " 'NP-TL',\n",
       " 'NN-TL',\n",
       " 'JJ-TL',\n",
       " 'VBD',\n",
       " 'NR',\n",
       " 'NN',\n",
       " 'IN',\n",
       " 'NP$',\n",
       " 'JJ',\n",
       " '``',\n",
       " \"''\",\n",
       " 'CS',\n",
       " 'DTI',\n",
       " 'NNS',\n",
       " '.',\n",
       " 'RBR',\n",
       " ',',\n",
       " 'WDT',\n",
       " 'HVD',\n",
       " 'VBZ',\n",
       " 'CC',\n",
       " 'IN-TL',\n",
       " 'BEDZ',\n",
       " 'VBN',\n",
       " 'NP',\n",
       " 'BEN',\n",
       " 'TO',\n",
       " 'VB',\n",
       " 'RB',\n",
       " 'DT',\n",
       " 'PPS',\n",
       " 'DOD',\n",
       " 'AP',\n",
       " 'BER',\n",
       " 'HV',\n",
       " 'DTS',\n",
       " 'VBG',\n",
       " 'PPO',\n",
       " 'QL',\n",
       " 'JJT',\n",
       " 'ABX',\n",
       " 'NN-HL',\n",
       " 'VBN-HL',\n",
       " 'WRB',\n",
       " 'CD',\n",
       " 'MD',\n",
       " 'BE',\n",
       " 'JJR',\n",
       " 'VBG-TL',\n",
       " 'BEZ',\n",
       " 'NN$-TL',\n",
       " 'HVZ',\n",
       " 'ABN',\n",
       " 'PN',\n",
       " 'PPSS',\n",
       " 'PP$',\n",
       " 'DO',\n",
       " 'NN$',\n",
       " 'NNS-HL',\n",
       " 'WPS',\n",
       " '*',\n",
       " 'EX',\n",
       " 'VB-HL',\n",
       " ':',\n",
       " '(',\n",
       " ')',\n",
       " 'NNS-TL',\n",
       " 'NPS',\n",
       " 'JJS',\n",
       " 'RP',\n",
       " '--',\n",
       " 'BED',\n",
       " 'OD',\n",
       " 'BEG',\n",
       " 'AT-HL',\n",
       " 'VBG-HL',\n",
       " 'AT-TL',\n",
       " 'PPL',\n",
       " 'DOZ',\n",
       " 'NP-HL',\n",
       " 'NR$',\n",
       " 'DOD*',\n",
       " 'BEDZ*',\n",
       " ',-HL',\n",
       " 'CC-TL',\n",
       " 'MD*',\n",
       " 'NNS$',\n",
       " 'PPSS+BER',\n",
       " \"'\",\n",
       " 'PPSS+BEM',\n",
       " 'CD-TL',\n",
       " 'RBT',\n",
       " '(-HL',\n",
       " ')-HL',\n",
       " 'MD-HL',\n",
       " 'VBZ-HL',\n",
       " 'IN-HL',\n",
       " 'JJ-HL',\n",
       " 'PPLS',\n",
       " 'CD-HL',\n",
       " 'WPO',\n",
       " 'JJS-TL',\n",
       " 'ABL',\n",
       " 'BER-HL',\n",
       " 'PPS+HVZ',\n",
       " 'VBD-HL',\n",
       " 'RP-HL',\n",
       " 'MD*-HL',\n",
       " 'AP-HL',\n",
       " 'CS-HL',\n",
       " 'DT$',\n",
       " 'HVN',\n",
       " 'FW-IN',\n",
       " 'FW-DT',\n",
       " 'VBN-TL',\n",
       " 'NR-TL',\n",
       " 'NNS$-TL',\n",
       " 'FW-NN',\n",
       " 'HVG',\n",
       " 'DTX',\n",
       " 'OD-TL',\n",
       " 'BEM',\n",
       " 'RB-HL',\n",
       " 'PPSS+MD',\n",
       " 'NPS-HL',\n",
       " 'NPS$',\n",
       " 'WP$',\n",
       " 'NN-TL-HL',\n",
       " 'CC-HL',\n",
       " 'PPS+BEZ',\n",
       " 'AP-TL',\n",
       " 'UH-TL',\n",
       " 'BEZ-HL',\n",
       " 'TO-HL',\n",
       " 'DO*',\n",
       " 'VBN-TL-HL',\n",
       " 'NNS-TL-HL',\n",
       " 'DT-HL',\n",
       " 'BE-HL',\n",
       " 'DOZ*',\n",
       " 'QLP',\n",
       " 'JJR-HL',\n",
       " 'PPSS+HVD',\n",
       " 'FW-IN+NN',\n",
       " 'PP$$',\n",
       " 'JJT-HL',\n",
       " 'NP-TL-HL',\n",
       " 'NPS-TL',\n",
       " 'MD+HV',\n",
       " 'NP$-TL',\n",
       " 'OD-HL',\n",
       " 'JJR-TL',\n",
       " 'VBD-TL',\n",
       " 'DT+BEZ',\n",
       " 'EX+BEZ',\n",
       " 'PPSS+HV',\n",
       " ':-HL',\n",
       " 'PPS+MD',\n",
       " 'UH',\n",
       " 'FW-CC',\n",
       " 'FW-NNS',\n",
       " 'BEDZ-HL',\n",
       " 'NN$-HL',\n",
       " '.-HL',\n",
       " 'HVD*',\n",
       " 'BEZ*',\n",
       " 'AP$',\n",
       " 'NP+BEZ',\n",
       " 'FW-AT-TL',\n",
       " 'VB-TL',\n",
       " 'RB-TL',\n",
       " 'MD-TL',\n",
       " 'PN+HVZ',\n",
       " 'FW-JJ-TL',\n",
       " 'FW-NN-TL',\n",
       " 'ABN-HL',\n",
       " 'PPS+BEZ-HL',\n",
       " 'NR-HL',\n",
       " 'HVD-HL',\n",
       " 'RB$',\n",
       " 'FW-AT-HL',\n",
       " 'DO-HL',\n",
       " 'PP$-TL',\n",
       " 'FW-IN-TL',\n",
       " 'WPS+BEZ',\n",
       " '*-HL',\n",
       " 'DTI-HL',\n",
       " 'PN-HL',\n",
       " 'CD$',\n",
       " 'BER*',\n",
       " 'NNS$-HL',\n",
       " 'PN$',\n",
       " 'BER-TL',\n",
       " 'TO-TL',\n",
       " 'FW-JJ',\n",
       " 'BED*',\n",
       " 'RB+BEZ',\n",
       " 'VB+PPO',\n",
       " 'PPSS-HL',\n",
       " 'HVZ*',\n",
       " 'FW-IN+NN-TL',\n",
       " 'FW-IN+AT-TL',\n",
       " 'NN-NC',\n",
       " 'JJ-NC',\n",
       " 'NR$-TL',\n",
       " 'FW-PP$-NC',\n",
       " 'FW-VB',\n",
       " 'FW-VB-NC',\n",
       " 'JJR-NC',\n",
       " 'NPS$-TL',\n",
       " 'QL-TL',\n",
       " 'FW-AT',\n",
       " 'FW-*',\n",
       " 'FW-CD',\n",
       " 'WQL',\n",
       " 'FW-WDT',\n",
       " 'WDT+BEZ']"
      ]
     },
     "execution_count": 96,
     "metadata": {},
     "output_type": "execute_result"
    }
   ],
   "source": [
    "list(counts)"
   ]
  },
  {
   "cell_type": "code",
   "execution_count": 98,
   "metadata": {},
   "outputs": [
    {
     "data": {
      "text/plain": [
       "[('NN', 13162),\n",
       " ('IN', 10616),\n",
       " ('AT', 8893),\n",
       " ('NP', 6866),\n",
       " (',', 5133),\n",
       " ('NNS', 5066),\n",
       " ('.', 4452),\n",
       " ('JJ', 4392),\n",
       " ('CC', 2664),\n",
       " ('VBD', 2524)]"
      ]
     },
     "execution_count": 98,
     "metadata": {},
     "output_type": "execute_result"
    }
   ],
   "source": [
    "from operator import itemgetter\n",
    "sorted(counts.items(), key=itemgetter(1), reverse=True)[:10]"
   ]
  },
  {
   "cell_type": "code",
   "execution_count": 100,
   "metadata": {},
   "outputs": [
    {
     "data": {
      "text/plain": [
       "['NN', 'IN', 'AT', 'NP', ',', 'NNS', '.', 'JJ', 'CC', 'VBD']"
      ]
     },
     "execution_count": 100,
     "metadata": {},
     "output_type": "execute_result"
    }
   ],
   "source": [
    "[t for t, c in sorted(counts.items(), key=itemgetter(1), reverse=True)][:10]"
   ]
  },
  {
   "cell_type": "markdown",
   "metadata": {},
   "source": [
    "The first parameter of sorted() is the items to sort, which is a list of tuples consisting of a POS tag and frequency. <br>\n",
    "The second parameter specifies the sort key using a function itemgetter"
   ]
  },
  {
   "cell_type": "code",
   "execution_count": 101,
   "metadata": {},
   "outputs": [
    {
     "data": {
      "text/plain": [
       "8336"
      ]
     },
     "execution_count": 101,
     "metadata": {},
     "output_type": "execute_result"
    }
   ],
   "source": [
    "pair = ('NP', 8336)\n",
    "pair[1]"
   ]
  },
  {
   "cell_type": "code",
   "execution_count": 103,
   "metadata": {},
   "outputs": [
    {
     "data": {
      "text/plain": [
       "8336"
      ]
     },
     "execution_count": 103,
     "metadata": {},
     "output_type": "execute_result"
    }
   ],
   "source": [
    "itemgetter(1)(pair)"
   ]
  },
  {
   "cell_type": "code",
   "execution_count": 104,
   "metadata": {},
   "outputs": [],
   "source": [
    "last_letters = nltk.defaultdict(list)\n",
    "words = nltk.corpus.words.words('en')"
   ]
  },
  {
   "cell_type": "code",
   "execution_count": 106,
   "metadata": {},
   "outputs": [],
   "source": [
    "for word in words:\n",
    "    key = word[-2:]\n",
    "    last_letters[key].append(word)"
   ]
  },
  {
   "cell_type": "code",
   "execution_count": 109,
   "metadata": {},
   "outputs": [
    {
     "data": {
      "text/plain": [
       "['abactinally',\n",
       " 'abandonedly',\n",
       " 'abasedly',\n",
       " 'abashedly',\n",
       " 'abashlessly',\n",
       " 'abbreviately',\n",
       " 'abdominally',\n",
       " 'abhorrently',\n",
       " 'abidingly',\n",
       " 'abiogenetically']"
      ]
     },
     "execution_count": 109,
     "metadata": {},
     "output_type": "execute_result"
    }
   ],
   "source": [
    "last_letters['ly'][:10]"
   ]
  }
 ],
 "metadata": {
  "kernelspec": {
   "display_name": "Python 3",
   "language": "python",
   "name": "python3"
  },
  "language_info": {
   "codemirror_mode": {
    "name": "ipython",
    "version": 3
   },
   "file_extension": ".py",
   "mimetype": "text/x-python",
   "name": "python",
   "nbconvert_exporter": "python",
   "pygments_lexer": "ipython3",
   "version": "3.6.4"
  }
 },
 "nbformat": 4,
 "nbformat_minor": 2
}
